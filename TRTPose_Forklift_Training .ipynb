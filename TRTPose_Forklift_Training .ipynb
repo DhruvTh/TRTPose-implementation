{
 "cells": [
  {
   "cell_type": "code",
   "execution_count": 1,
   "metadata": {
    "id": "3uKtuutG2oIW"
   },
   "outputs": [],
   "source": [
    "import torch\n",
    "import torch.utils.data\n",
    "import torch.nn\n",
    "import os\n",
    "import PIL.Image\n",
    "import json\n",
    "import tqdm\n",
    "import trt_pose\n",
    "import trt_pose.plugins\n",
    "import glob\n",
    "import torchvision.transforms.functional as FT\n",
    "import numpy as np\n",
    "from trt_pose.parse_objects import ParseObjects\n",
    "import pycocotools\n",
    "import pycocotools.coco\n",
    "import pycocotools.cocoeval\n",
    "import torchvision\n",
    "import shutil\n",
    "\n",
    "        \n",
    "def coco_category_to_topology(coco_category):\n",
    "    \"\"\"Gets topology tensor from a COCO category\n",
    "    \"\"\"\n",
    "    skeleton = coco_category['skeleton']\n",
    "    K = len(skeleton)\n",
    "    topology = torch.zeros((K, 4)).int()\n",
    "    for k in range(K):\n",
    "        topology[k][0] = 2 * k\n",
    "        topology[k][1] = 2 * k + 1\n",
    "        topology[k][2] = skeleton[k][0] - 1\n",
    "        topology[k][3] = skeleton[k][1] - 1\n",
    "    return topology\n",
    "\n",
    "\n",
    "def coco_category_to_parts(coco_category):\n",
    "    \"\"\"Gets list of parts name from a COCO category\n",
    "    \"\"\"\n",
    "    return coco_category['keypoints']\n",
    "\n",
    "\n",
    "def coco_annotations_to_tensors(coco_annotations,\n",
    "                                image_shape,\n",
    "                                parts,\n",
    "                                topology,\n",
    "                                max_count=100):\n",
    "    \"\"\"Gets tensors corresponding to peak counts, peak coordinates, and peak to peak connections\n",
    "    \"\"\"\n",
    "    annotations = coco_annotations\n",
    "    C = len(parts)\n",
    "    K = topology.shape[0]\n",
    "    M = max_count\n",
    "    IH = image_shape[0]\n",
    "    IW = image_shape[1]\n",
    "    counts = torch.zeros((C)).int()\n",
    "    peaks = torch.zeros((C, M, 2)).float()\n",
    "    visibles = torch.zeros((len(annotations), C)).int()\n",
    "    connections = -torch.ones((K, 2, M)).int()\n",
    "\n",
    "    for ann_idx, ann in enumerate(annotations):\n",
    "\n",
    "        kps = ann['keypoints']\n",
    "\n",
    "        # add visible peaks\n",
    "        for c in range(C):\n",
    "\n",
    "            x = kps[c * 3]\n",
    "            y = kps[c * 3 + 1]\n",
    "            visible = kps[c * 3 + 2]\n",
    "\n",
    "            if visible:\n",
    "                peaks[c][counts[c]][0] = (float(y) + 0.5) / (IH + 1.0)\n",
    "                peaks[c][counts[c]][1] = (float(x) + 0.5) / (IW + 1.0)\n",
    "                counts[c] = counts[c] + 1\n",
    "                visibles[ann_idx][c] = 1\n",
    "\n",
    "        for k in range(K):\n",
    "            c_a = topology[k][2]\n",
    "            c_b = topology[k][3]\n",
    "            if visibles[ann_idx][c_a] and visibles[ann_idx][c_b]:\n",
    "                connections[k][0][counts[c_a] - 1] = counts[c_b] - 1\n",
    "                connections[k][1][counts[c_b] - 1] = counts[c_a] - 1\n",
    "\n",
    "    return counts, peaks, connections\n",
    "\n",
    "\n",
    "def coco_annotations_to_mask_bbox(coco_annotations, image_shape):\n",
    "    mask = np.ones(image_shape, dtype=np.uint8)\n",
    "    for ann in coco_annotations:\n",
    "        if 'num_keypoints' not in ann or ann['num_keypoints'] == 0:\n",
    "            bbox = ann['bbox']\n",
    "            x0 = round(bbox[0])\n",
    "            y0 = round(bbox[1])\n",
    "            x1 = round(x0 + bbox[2])\n",
    "            y1 = round(y0 + bbox[3])\n",
    "            mask[y0:y1, x0:x1] = 0\n",
    "    return mask\n",
    "            \n",
    "\n",
    "def convert_dir_to_bmp(output_dir, input_dir):\n",
    "    files = glob.glob(os.path.join(input_dir, '*.jpg'))\n",
    "    for f in files:\n",
    "        new_path = os.path.join(\n",
    "            output_dir,\n",
    "            os.path.splitext(os.path.basename(f))[0] + '.bmp')\n",
    "        img = PIL.Image.open(f)\n",
    "        img.save(new_path)\n",
    "\n",
    "        \n",
    "def get_quad(angle, translation, scale, aspect_ratio=1.0):\n",
    "    if aspect_ratio > 1.0:\n",
    "        # width > height =>\n",
    "        # increase height region\n",
    "        quad = np.array([\n",
    "            [0.0, 0.5 - 0.5 * aspect_ratio],\n",
    "            [0.0, 0.5 + 0.5 * aspect_ratio],\n",
    "            [1.0, 0.5 + 0.5 * aspect_ratio],\n",
    "            [1.0, 0.5 - 0.5 * aspect_ratio],\n",
    "            \n",
    "        ])\n",
    "    elif aspect_ratio < 1.0:\n",
    "        # width < height\n",
    "        quad = np.array([\n",
    "            [0.5 - 0.5 / aspect_ratio, 0.0],\n",
    "            [0.5 - 0.5 / aspect_ratio, 1.0],\n",
    "            [0.5 + 0.5 / aspect_ratio, 1.0],\n",
    "            [0.5 + 0.5 / aspect_ratio, 0.0],\n",
    "            \n",
    "        ])\n",
    "    else:\n",
    "        quad = np.array([\n",
    "            [0.0, 0.0],\n",
    "            [0.0, 1.0],\n",
    "            [1.0, 1.0],\n",
    "            [1.0, 0.0],\n",
    "        ])\n",
    "        \n",
    "    quad -= 0.5\n",
    "\n",
    "    R = np.array([\n",
    "        [np.cos(angle), -np.sin(angle)],\n",
    "        [np.sin(angle), np.cos(angle)]\n",
    "    ])\n",
    "\n",
    "    quad = np.dot(quad, R)\n",
    "\n",
    "    quad -= np.array(translation)\n",
    "    quad /= scale\n",
    "    quad += 0.5\n",
    "    \n",
    "    return quad\n",
    "\n",
    "\n",
    "def transform_image(image, size, quad):\n",
    "    new_quad = np.zeros_like(quad)\n",
    "    new_quad[:, 0] = quad[:, 0] * image.size[0]\n",
    "    new_quad[:, 1] = quad[:, 1] * image.size[1]\n",
    "    \n",
    "    new_quad = (new_quad[0][0], new_quad[0][1],\n",
    "            new_quad[1][0], new_quad[1][1],\n",
    "            new_quad[2][0], new_quad[2][1],\n",
    "            new_quad[3][0], new_quad[3][1])\n",
    "    \n",
    "    return image.transform(size, PIL.Image.QUAD, new_quad)\n",
    "\n",
    "\n",
    "def transform_points_xy(points, quad):\n",
    "    p00 = quad[0]\n",
    "    p01 = quad[1] - p00\n",
    "    p10 = quad[3] - p00\n",
    "    p01 /= np.sum(p01**2)\n",
    "    p10 /= np.sum(p10**2)\n",
    "    \n",
    "    A = np.array([\n",
    "        p10,\n",
    "        p01,\n",
    "    ]).transpose()\n",
    "    \n",
    "    return np.dot(points - p00, A)\n",
    "\n",
    "\n",
    "def transform_peaks(counts, peaks, quad):\n",
    "    newpeaks = peaks.clone().numpy()\n",
    "    C = counts.shape[0]\n",
    "    for c in range(C):\n",
    "        count = int(counts[c])\n",
    "        newpeaks[c][0:count] = transform_points_xy(newpeaks[c][0:count][:, ::-1], quad)[:, ::-1]\n",
    "    return torch.from_numpy(newpeaks)\n",
    "\n",
    "\n",
    "class CocoDataset(torch.utils.data.Dataset):\n",
    "    def __init__(self,\n",
    "                 images_dir,\n",
    "                 annotations_file,\n",
    "                 category_name,\n",
    "                 image_shape,\n",
    "                 target_shape,\n",
    "                 is_bmp=False,\n",
    "                 stdev=0.02,\n",
    "                 use_crowd=False,\n",
    "                 min_area=0.0,\n",
    "                 max_area=1.0,\n",
    "                 max_part_count=100,\n",
    "                 random_angle=(0.0, 0.0),\n",
    "                 random_scale=(1.0, 1.0),\n",
    "                 random_translate=(0.0, 0.0),\n",
    "                 transforms=None,\n",
    "                 keep_aspect_ratio=False):\n",
    "\n",
    "        self.keep_aspect_ratio = keep_aspect_ratio\n",
    "        self.transforms=transforms\n",
    "        self.is_bmp = is_bmp\n",
    "        self.images_dir = images_dir\n",
    "        self.image_shape = image_shape\n",
    "        self.target_shape = target_shape\n",
    "        self.stdev = stdev\n",
    "        self.random_angle = random_angle\n",
    "        self.random_scale = random_scale\n",
    "        self.random_translate = random_translate\n",
    "        \n",
    "        tensor_cache_file = annotations_file + '.cache'\n",
    "        \n",
    "        if tensor_cache_file is not None and os.path.exists(tensor_cache_file):\n",
    "            print('Cachefile found.  Loading from cache file...')\n",
    "            cache = torch.load(tensor_cache_file)\n",
    "            self.counts = cache['counts']\n",
    "            self.peaks = cache['peaks']\n",
    "            self.connections = cache['connections']\n",
    "            self.topology = cache['topology']\n",
    "            self.parts = cache['parts']\n",
    "            self.filenames = cache['filenames']\n",
    "            self.samples = cache['samples']\n",
    "            return\n",
    "            \n",
    "        with open(annotations_file, 'r') as f:\n",
    "            data = json.load(f)\n",
    "\n",
    "        cat = [c for c in data['categories'] if c['name'] == category_name][0]\n",
    "        cat_id = cat['id']\n",
    "\n",
    "        img_map = {}\n",
    "        for img in data['images']:\n",
    "            img_map[img['id']] = img\n",
    "\n",
    "        samples = {}\n",
    "        for ann in data['annotations']:\n",
    "\n",
    "            # filter by category\n",
    "            if ann['category_id'] != cat_id:\n",
    "                continue\n",
    "\n",
    "            # filter by crowd\n",
    "            if not use_crowd and ann['iscrowd']:\n",
    "                continue\n",
    "\n",
    "            img_id = ann['image_id']\n",
    "            img = img_map[img_id]\n",
    "            height = img['height']\n",
    "            width = img['width']\n",
    "            area = ann['area']\n",
    "\n",
    "            # filter by object area\n",
    "            normalized_area = float(area) / float(height * width)\n",
    "            if normalized_area < min_area or normalized_area > max_area:\n",
    "                continue\n",
    "\n",
    "            # add metadata\n",
    "            if img_id not in samples:\n",
    "                sample = {}\n",
    "                sample['img'] = img\n",
    "                sample['anns'] = [ann]\n",
    "                samples[img_id] = sample\n",
    "            else:\n",
    "                samples[img_id]['anns'] += [ann]\n",
    "                \n",
    "        # generate tensors\n",
    "        self.topology = coco_category_to_topology(cat)\n",
    "        self.parts = coco_category_to_parts(cat)\n",
    "\n",
    "        N = len(samples)\n",
    "        C = len(self.parts)\n",
    "        K = self.topology.shape[0]\n",
    "        M = max_part_count\n",
    "\n",
    "        print('Generating intermediate tensors...')\n",
    "        self.counts = torch.zeros((N, C), dtype=torch.int32)\n",
    "        self.peaks = torch.zeros((N, C, M, 2), dtype=torch.float32)\n",
    "        self.connections = torch.zeros((N, K, 2, M), dtype=torch.int32)\n",
    "        self.filenames = []\n",
    "        self.samples = []\n",
    "        \n",
    "        for i, sample in tqdm.tqdm(enumerate(samples.values())):\n",
    "            filename = sample['img']['file_name']\n",
    "            self.filenames.append(filename)\n",
    "            image_shape = (sample['img']['height'], sample['img']['width'])\n",
    "            counts_i, peaks_i, connections_i = coco_annotations_to_tensors(\n",
    "                sample['anns'], image_shape, self.parts, self.topology)\n",
    "            self.counts[i] = counts_i\n",
    "            self.peaks[i] = peaks_i\n",
    "            self.connections[i] = connections_i\n",
    "            self.samples += [sample]\n",
    "\n",
    "        # if tensor_cache_file is not None:\n",
    "        #     print('Saving to intermediate tensors to cache file...')\n",
    "        #     torch.save({\n",
    "        #         'counts': self.counts,\n",
    "        #         'peaks': self.peaks,\n",
    "        #         'connections': self.connections,\n",
    "        #         'topology': self.topology,\n",
    "        #         'parts': self.parts,\n",
    "        #         'filenames': self.filenames,\n",
    "        #         'samples': self.samples\n",
    "        #     }, tensor_cache_file)\n",
    "\n",
    "    def __len__(self):\n",
    "        return len(self.filenames)\n",
    "\n",
    "    def __getitem__(self, idx):\n",
    "\n",
    "        if self.is_bmp:\n",
    "            filename = os.path.splitext(self.filenames[idx])[0] + '.bmp'\n",
    "        else:\n",
    "            filename = os.path.splitext(self.filenames[idx])[0] + '.jpg'\n",
    "\n",
    "        image = PIL.Image.open(os.path.join(self.images_dir, filename))\n",
    "        \n",
    "        im = self.samples[idx]['img']\n",
    "        \n",
    "        mask = coco_annotations_to_mask_bbox(self.samples[idx]['anns'], (im['height'], im['width']))\n",
    "        mask = PIL.Image.fromarray(mask)\n",
    "        \n",
    "        counts = self.counts[idx]\n",
    "        peaks = self.peaks[idx]\n",
    "        \n",
    "        # affine transformation\n",
    "        shiftx = float(torch.rand(1)) * (self.random_translate[1] - self.random_translate[0]) + self.random_translate[0]\n",
    "        shifty = float(torch.rand(1)) * (self.random_translate[1] - self.random_translate[0]) + self.random_translate[0]\n",
    "        scale = float(torch.rand(1)) * (self.random_scale[1] - self.random_scale[0]) + self.random_scale[0]\n",
    "        angle = float(torch.rand(1)) * (self.random_angle[1] - self.random_angle[0]) + self.random_angle[0]\n",
    "        \n",
    "        if self.keep_aspect_ratio:\n",
    "            ar = float(image.width) / float(image.height)\n",
    "            quad = get_quad(angle, (shiftx, shifty), scale, aspect_ratio=ar)\n",
    "        else:\n",
    "            quad = get_quad(angle, (shiftx, shifty), scale, aspect_ratio=1.0)\n",
    "        \n",
    "        image = transform_image(image, (self.image_shape[1], self.image_shape[0]), quad)\n",
    "        mask = transform_image(mask, (self.target_shape[1], self.target_shape[0]), quad)\n",
    "        peaks = transform_peaks(counts, peaks, quad)\n",
    "        \n",
    "        counts = counts[None, ...]\n",
    "        peaks = peaks[None, ...]\n",
    "\n",
    "        stdev = float(self.stdev * self.target_shape[0])\n",
    "\n",
    "        cmap = trt_pose.plugins.generate_cmap(counts, peaks,\n",
    "            self.target_shape[0], self.target_shape[1], stdev, int(stdev * 5))\n",
    "\n",
    "        paf = trt_pose.plugins.generate_paf(\n",
    "            self.connections[idx][None, ...], self.topology,\n",
    "            counts, peaks,\n",
    "            self.target_shape[0], self.target_shape[1], stdev)\n",
    "\n",
    "        image = image.convert('RGB')\n",
    "        if self.transforms is not None:\n",
    "            image = self.transforms(image)\n",
    "            \n",
    "        return image, cmap[0], paf[0], torch.from_numpy(np.array(mask))[None, ...]\n",
    "\n",
    "    def get_part_type_counts(self):\n",
    "        return torch.sum(self.counts, dim=0)\n",
    "    \n",
    "    def get_paf_type_counts(self):\n",
    "        c = torch.sum(self.connections[:, :, 0, :] >= 0, dim=-1) # sum over parts\n",
    "        c = torch.sum(c, dim=0) # sum over batch\n",
    "        return c\n",
    "    \n",
    "    \n",
    "class CocoHumanPoseEval(object):\n",
    "    \n",
    "    def __init__(self, images_dir, annotation_file, image_shape, keep_aspect_ratio=False):\n",
    "        \n",
    "        self.images_dir = images_dir\n",
    "        self.annotation_file = annotation_file\n",
    "        self.image_shape = tuple(image_shape)\n",
    "        self.keep_aspect_ratio = keep_aspect_ratio\n",
    "        \n",
    "        self.cocoGt = pycocotools.coco.COCO('annotations/person_keypoints_val2017.json')\n",
    "        self.catIds = self.cocoGt.getCatIds('person')\n",
    "        self.imgIds = self.cocoGt.getImgIds(catIds=self.catIds)\n",
    "        self.transform = torchvision.transforms.Compose([\n",
    "            torchvision.transforms.ToTensor(),\n",
    "            torchvision.transforms.Normalize([0.485, 0.456, 0.406], [0.229, 0.224, 0.225])\n",
    "        ])\n",
    "        \n",
    "    def evaluate(self, model, topology):\n",
    "        self.parse_objects = ParseObjects(topology, cmap_threshold=0.1, link_threshold=0.1, cmap_window=5, line_integral_samples=7, max_num_parts=100, max_num_objects=100)\n",
    "        \n",
    "        results = []\n",
    "\n",
    "        for n, imgId in enumerate(self.imgIds[1:]):\n",
    "\n",
    "            # read image\n",
    "            img = self.cocoGt.imgs[imgId]\n",
    "            img_path = os.path.join(self.images_dir, img['file_name'])\n",
    "\n",
    "            image = PIL.Image.open(img_path).convert('RGB')#.resize(IMAGE_SHAPE)\n",
    "            \n",
    "            if self.keep_aspect_ratio:\n",
    "                ar = float(image.width) / float(image.height)\n",
    "            else:\n",
    "                ar = 1.0\n",
    "                \n",
    "            quad = get_quad(0.0, (0, 0), 1.0, aspect_ratio=ar)\n",
    "            image = transform_image(image, self.image_shape, quad)\n",
    "\n",
    "            data = self.transform(image).cuda()[None, ...]\n",
    "\n",
    "            cmap, paf = model(data)\n",
    "            cmap, paf = cmap.cpu(), paf.cpu()\n",
    "\n",
    "        #     object_counts, objects, peaks, int_peaks = postprocess(cmap, paf, cmap_threshold=0.05, link_threshold=0.01, window=5)\n",
    "        #     object_counts, objects, peaks = int(object_counts[0]), objects[0], peaks[0]\n",
    "\n",
    "            object_counts, objects, peaks = self.parse_objects(cmap, paf)\n",
    "            object_counts, objects, peaks = int(object_counts[0]), objects[0], peaks[0]\n",
    "\n",
    "            for i in range(object_counts):\n",
    "                object = objects[i]\n",
    "                score = 0.0\n",
    "                kps = [0]*(17*3)\n",
    "                x_mean = 0\n",
    "                y_mean = 0\n",
    "                cnt = 0\n",
    "                for j in range(17):\n",
    "                    k = object[j]\n",
    "                    if k >= 0:\n",
    "                        peak = peaks[j][k]\n",
    "                        if ar > 1.0: # w > h w/h\n",
    "                            x = peak[1]\n",
    "                            y = (peak[0] - 0.5) * ar + 0.5\n",
    "                        else:\n",
    "                            x = (peak[1] - 0.5) / ar + 0.5\n",
    "                            y = peak[0]\n",
    "\n",
    "                        x = round(float(img['width'] * x))\n",
    "                        y = round(float(img['height'] * y))\n",
    "\n",
    "                        score += 1.0\n",
    "                        kps[j * 3 + 0] = x\n",
    "                        kps[j * 3 + 1] = y\n",
    "                        kps[j * 3 + 2] = 2\n",
    "                        x_mean += x\n",
    "                        y_mean += y\n",
    "                        cnt += 1\n",
    "\n",
    "                ann = {\n",
    "                    'image_id': imgId,\n",
    "                    'category_id': 1,\n",
    "                    'keypoints': kps,\n",
    "                    'score': score / 17.0\n",
    "                }\n",
    "                results.append(ann)\n",
    "            if n % 100 == 0:\n",
    "                print('%d / %d' % (n, len(self.imgIds)))\n",
    "\n",
    "\n",
    "        if len(results) == 0:\n",
    "            return\n",
    "        \n",
    "        with open('trt_pose_results.json', 'w') as f:\n",
    "            json.dump(results, f)\n",
    "            \n",
    "        cocoDt = self.cocoGt.loadRes('trt_pose_results.json')\n",
    "        cocoEval = pycocotools.cocoeval.COCOeval(self.cocoGt, cocoDt, 'keypoints')\n",
    "        cocoEval.params.imgIds = self.imgIds\n",
    "        cocoEval.params.catIds = [1]\n",
    "        cocoEval.evaluate()\n",
    "        cocoEval.accumulate()\n",
    "        cocoEval.summarize()"
   ]
  },
  {
   "cell_type": "code",
   "execution_count": 2,
   "metadata": {
    "id": "10mVF9nl2sWK"
   },
   "outputs": [],
   "source": [
    "import argparse\n",
    "import subprocess\n",
    "import torch\n",
    "import torchvision\n",
    "import os\n",
    "import torch.optim\n",
    "import tqdm\n",
    "import apex.amp as amp\n",
    "import time\n",
    "import json\n",
    "import pprint\n",
    "import torch.nn.functional as F\n",
    "import cv2\n",
    "#from trt_pose.coco import CocoDataset, CocoHumanPoseEval\n",
    "from trt_pose.models import MODELS\n",
    "import random\n",
    "from PIL import Image\n"
   ]
  },
  {
   "cell_type": "code",
   "execution_count": 3,
   "metadata": {
    "colab": {
     "base_uri": "https://localhost:8080/"
    },
    "id": "HFVJWV8T2t-3",
    "outputId": "157eb1b6-fac0-4d7f-8435-f9e85be7cae2",
    "tags": []
   },
   "outputs": [
    {
     "name": "stdout",
     "output_type": "stream",
     "text": [
      "Generating intermediate tensors...\n"
     ]
    },
    {
     "name": "stderr",
     "output_type": "stream",
     "text": [
      "3032it [00:02, 1376.60it/s]\n"
     ]
    },
    {
     "name": "stdout",
     "output_type": "stream",
     "text": [
      "Generating intermediate tensors...\n"
     ]
    },
    {
     "name": "stderr",
     "output_type": "stream",
     "text": [
      "579it [00:00, 1398.63it/s]\n"
     ]
    },
    {
     "name": "stdout",
     "output_type": "stream",
     "text": [
      "Selected optimization level O1:  Insert automatic casts around Pytorch functions and Tensor methods.\n",
      "\n",
      "Defaults for this optimization level are:\n",
      "enabled                : True\n",
      "opt_level              : O1\n",
      "cast_model_type        : None\n",
      "patch_torch_functions  : True\n",
      "keep_batchnorm_fp32    : None\n",
      "master_weights         : None\n",
      "loss_scale             : dynamic\n",
      "Processing user overrides (additional kwargs that are not None)...\n",
      "After processing overrides, optimization options are:\n",
      "enabled                : True\n",
      "opt_level              : O1\n",
      "cast_model_type        : None\n",
      "patch_torch_functions  : True\n",
      "keep_batchnorm_fp32    : None\n",
      "master_weights         : None\n",
      "loss_scale             : dynamic\n",
      "Warning:  multi_tensor_applier fused unscale kernel is unavailable, possibly because apex was installed without --cuda_ext --cpp_ext. Using Python fallback.  Original ImportError was: ModuleNotFoundError(\"No module named 'amp_C'\")\n",
      "Adjusting stdev to 0.025000\n",
      "Adjusting learning rate to 0.001000\n",
      "Saving checkpoint to ../tasks/human_pose/experiments/resnet18_baseline_att_224x224_A.json.checkpoints/epoch_0.pth\n"
     ]
    },
    {
     "name": "stderr",
     "output_type": "stream",
     "text": [
      "100%|███████████████████████████████████████████| 48/48 [00:10<00:00,  4.45it/s]\n",
      "100%|███████████████████████████████████████████| 10/10 [00:01<00:00,  5.67it/s]"
     ]
    },
    {
     "name": "stdout",
     "output_type": "stream",
     "text": [
      "0, 0.012406, 0.002849\n"
     ]
    },
    {
     "name": "stderr",
     "output_type": "stream",
     "text": [
      "\n",
      "100%|███████████████████████████████████████████| 48/48 [00:09<00:00,  4.94it/s]\n",
      "100%|███████████████████████████████████████████| 10/10 [00:01<00:00,  5.31it/s]"
     ]
    },
    {
     "name": "stdout",
     "output_type": "stream",
     "text": [
      "1, 0.002302, 0.002626\n"
     ]
    },
    {
     "name": "stderr",
     "output_type": "stream",
     "text": [
      "\n",
      "100%|███████████████████████████████████████████| 48/48 [00:09<00:00,  4.91it/s]\n",
      "100%|███████████████████████████████████████████| 10/10 [00:02<00:00,  4.68it/s]\n"
     ]
    },
    {
     "name": "stdout",
     "output_type": "stream",
     "text": [
      "2, 0.002272, 0.002652\n",
      "Saving checkpoint to ../tasks/human_pose/experiments/resnet18_baseline_att_224x224_A.json.checkpoints/epoch_3.pth\n"
     ]
    },
    {
     "name": "stderr",
     "output_type": "stream",
     "text": [
      "100%|███████████████████████████████████████████| 48/48 [00:09<00:00,  5.09it/s]\n",
      "100%|███████████████████████████████████████████| 10/10 [00:01<00:00,  5.20it/s]"
     ]
    },
    {
     "name": "stdout",
     "output_type": "stream",
     "text": [
      "3, 0.002283, 0.002715\n"
     ]
    },
    {
     "name": "stderr",
     "output_type": "stream",
     "text": [
      "\n",
      "100%|███████████████████████████████████████████| 48/48 [00:09<00:00,  4.86it/s]\n",
      "100%|███████████████████████████████████████████| 10/10 [00:02<00:00,  3.80it/s]"
     ]
    },
    {
     "name": "stdout",
     "output_type": "stream",
     "text": [
      "4, 0.002239, 0.002667\n"
     ]
    },
    {
     "name": "stderr",
     "output_type": "stream",
     "text": [
      "\n",
      "100%|███████████████████████████████████████████| 48/48 [00:09<00:00,  4.93it/s]\n",
      "100%|███████████████████████████████████████████| 10/10 [00:01<00:00,  5.14it/s]\n"
     ]
    },
    {
     "name": "stdout",
     "output_type": "stream",
     "text": [
      "5, 0.002234, 0.002697\n",
      "Saving checkpoint to ../tasks/human_pose/experiments/resnet18_baseline_att_224x224_A.json.checkpoints/epoch_6.pth\n"
     ]
    },
    {
     "name": "stderr",
     "output_type": "stream",
     "text": [
      "100%|███████████████████████████████████████████| 48/48 [00:09<00:00,  5.06it/s]\n",
      "100%|███████████████████████████████████████████| 10/10 [00:01<00:00,  5.13it/s]"
     ]
    },
    {
     "name": "stdout",
     "output_type": "stream",
     "text": [
      "6, 0.002228, 0.002602\n"
     ]
    },
    {
     "name": "stderr",
     "output_type": "stream",
     "text": [
      "\n",
      "100%|███████████████████████████████████████████| 48/48 [00:09<00:00,  5.00it/s]\n",
      "100%|███████████████████████████████████████████| 10/10 [00:01<00:00,  5.24it/s]"
     ]
    },
    {
     "name": "stdout",
     "output_type": "stream",
     "text": [
      "7, 0.002221, 0.002650\n"
     ]
    },
    {
     "name": "stderr",
     "output_type": "stream",
     "text": [
      "\n",
      "100%|███████████████████████████████████████████| 48/48 [00:09<00:00,  4.87it/s]\n",
      "100%|███████████████████████████████████████████| 10/10 [00:01<00:00,  5.08it/s]\n"
     ]
    },
    {
     "name": "stdout",
     "output_type": "stream",
     "text": [
      "8, 0.002220, 0.002626\n",
      "Saving checkpoint to ../tasks/human_pose/experiments/resnet18_baseline_att_224x224_A.json.checkpoints/epoch_9.pth\n"
     ]
    },
    {
     "name": "stderr",
     "output_type": "stream",
     "text": [
      "100%|███████████████████████████████████████████| 48/48 [00:10<00:00,  4.75it/s]\n",
      "100%|███████████████████████████████████████████| 10/10 [00:01<00:00,  5.57it/s]"
     ]
    },
    {
     "name": "stdout",
     "output_type": "stream",
     "text": [
      "9, 0.002208, 0.002719\n"
     ]
    },
    {
     "name": "stderr",
     "output_type": "stream",
     "text": [
      "\n",
      "100%|███████████████████████████████████████████| 48/48 [00:10<00:00,  4.78it/s]\n",
      "100%|███████████████████████████████████████████| 10/10 [00:02<00:00,  4.98it/s]"
     ]
    },
    {
     "name": "stdout",
     "output_type": "stream",
     "text": [
      "10, 0.002202, 0.002665\n"
     ]
    },
    {
     "name": "stderr",
     "output_type": "stream",
     "text": [
      "\n",
      "100%|███████████████████████████████████████████| 48/48 [00:10<00:00,  4.55it/s]\n",
      "100%|███████████████████████████████████████████| 10/10 [00:03<00:00,  2.96it/s]"
     ]
    },
    {
     "name": "stdout",
     "output_type": "stream",
     "text": [
      "11, 0.002217, 0.002569\n",
      "Saving checkpoint to ../tasks/human_pose/experiments/resnet18_baseline_att_224x224_A.json.checkpoints/epoch_12.pth\n"
     ]
    },
    {
     "name": "stderr",
     "output_type": "stream",
     "text": [
      "\n",
      "100%|███████████████████████████████████████████| 48/48 [00:09<00:00,  4.91it/s]\n",
      "100%|███████████████████████████████████████████| 10/10 [00:01<00:00,  5.56it/s]"
     ]
    },
    {
     "name": "stdout",
     "output_type": "stream",
     "text": [
      "12, 0.002192, 0.002568\n"
     ]
    },
    {
     "name": "stderr",
     "output_type": "stream",
     "text": [
      "\n",
      "100%|███████████████████████████████████████████| 48/48 [00:10<00:00,  4.75it/s]\n",
      "100%|███████████████████████████████████████████| 10/10 [00:01<00:00,  5.07it/s]"
     ]
    },
    {
     "name": "stdout",
     "output_type": "stream",
     "text": [
      "13, 0.002196, 0.002480\n"
     ]
    },
    {
     "name": "stderr",
     "output_type": "stream",
     "text": [
      "\n",
      "100%|███████████████████████████████████████████| 48/48 [00:09<00:00,  4.93it/s]\n",
      "100%|███████████████████████████████████████████| 10/10 [00:01<00:00,  5.78it/s]\n"
     ]
    },
    {
     "name": "stdout",
     "output_type": "stream",
     "text": [
      "14, 0.002189, 0.002490\n",
      "Saving checkpoint to ../tasks/human_pose/experiments/resnet18_baseline_att_224x224_A.json.checkpoints/epoch_15.pth\n"
     ]
    },
    {
     "name": "stderr",
     "output_type": "stream",
     "text": [
      "100%|███████████████████████████████████████████| 48/48 [00:09<00:00,  4.87it/s]\n",
      "100%|███████████████████████████████████████████| 10/10 [00:02<00:00,  4.99it/s]"
     ]
    },
    {
     "name": "stdout",
     "output_type": "stream",
     "text": [
      "15, 0.002191, 0.002596\n"
     ]
    },
    {
     "name": "stderr",
     "output_type": "stream",
     "text": [
      "\n",
      "100%|███████████████████████████████████████████| 48/48 [00:08<00:00,  5.38it/s]\n",
      "100%|███████████████████████████████████████████| 10/10 [00:01<00:00,  5.38it/s]"
     ]
    },
    {
     "name": "stdout",
     "output_type": "stream",
     "text": [
      "16, 0.002174, 0.002511\n"
     ]
    },
    {
     "name": "stderr",
     "output_type": "stream",
     "text": [
      "\n",
      "100%|███████████████████████████████████████████| 48/48 [00:09<00:00,  5.01it/s]\n",
      "100%|███████████████████████████████████████████| 10/10 [00:02<00:00,  4.38it/s]\n"
     ]
    },
    {
     "name": "stdout",
     "output_type": "stream",
     "text": [
      "17, 0.002163, 0.002587\n",
      "Saving checkpoint to ../tasks/human_pose/experiments/resnet18_baseline_att_224x224_A.json.checkpoints/epoch_18.pth\n"
     ]
    },
    {
     "name": "stderr",
     "output_type": "stream",
     "text": [
      "100%|███████████████████████████████████████████| 48/48 [00:09<00:00,  4.87it/s]\n",
      "100%|███████████████████████████████████████████| 10/10 [00:01<00:00,  5.02it/s]"
     ]
    },
    {
     "name": "stdout",
     "output_type": "stream",
     "text": [
      "18, 0.002160, 0.002571\n"
     ]
    },
    {
     "name": "stderr",
     "output_type": "stream",
     "text": [
      "\n",
      "100%|███████████████████████████████████████████| 48/48 [00:09<00:00,  5.12it/s]\n",
      "100%|███████████████████████████████████████████| 10/10 [00:01<00:00,  5.80it/s]"
     ]
    },
    {
     "name": "stdout",
     "output_type": "stream",
     "text": [
      "19, 0.002134, 0.002970\n"
     ]
    },
    {
     "name": "stderr",
     "output_type": "stream",
     "text": [
      "\n",
      "100%|███████████████████████████████████████████| 48/48 [00:09<00:00,  4.98it/s]\n",
      "100%|███████████████████████████████████████████| 10/10 [00:01<00:00,  5.92it/s]\n"
     ]
    },
    {
     "name": "stdout",
     "output_type": "stream",
     "text": [
      "20, 0.002139, 0.002536\n",
      "Saving checkpoint to ../tasks/human_pose/experiments/resnet18_baseline_att_224x224_A.json.checkpoints/epoch_21.pth\n"
     ]
    },
    {
     "name": "stderr",
     "output_type": "stream",
     "text": [
      "100%|███████████████████████████████████████████| 48/48 [00:09<00:00,  4.94it/s]\n",
      "100%|███████████████████████████████████████████| 10/10 [00:02<00:00,  4.03it/s]"
     ]
    },
    {
     "name": "stdout",
     "output_type": "stream",
     "text": [
      "21, 0.002134, 0.002521\n"
     ]
    },
    {
     "name": "stderr",
     "output_type": "stream",
     "text": [
      "\n",
      "100%|███████████████████████████████████████████| 48/48 [00:09<00:00,  4.99it/s]\n",
      "100%|███████████████████████████████████████████| 10/10 [00:03<00:00,  3.09it/s]"
     ]
    },
    {
     "name": "stdout",
     "output_type": "stream",
     "text": [
      "22, 0.002130, 0.002575\n"
     ]
    },
    {
     "name": "stderr",
     "output_type": "stream",
     "text": [
      "\n",
      "100%|███████████████████████████████████████████| 48/48 [00:09<00:00,  4.94it/s]\n",
      "100%|███████████████████████████████████████████| 10/10 [00:02<00:00,  4.40it/s]"
     ]
    },
    {
     "name": "stdout",
     "output_type": "stream",
     "text": [
      "23, 0.002115, 0.002536\n",
      "Saving checkpoint to ../tasks/human_pose/experiments/resnet18_baseline_att_224x224_A.json.checkpoints/epoch_24.pth\n"
     ]
    },
    {
     "name": "stderr",
     "output_type": "stream",
     "text": [
      "\n",
      "100%|███████████████████████████████████████████| 48/48 [00:09<00:00,  5.33it/s]\n",
      "100%|███████████████████████████████████████████| 10/10 [00:02<00:00,  4.51it/s]"
     ]
    },
    {
     "name": "stdout",
     "output_type": "stream",
     "text": [
      "24, 0.002098, 0.002379\n"
     ]
    },
    {
     "name": "stderr",
     "output_type": "stream",
     "text": [
      "\n",
      "100%|███████████████████████████████████████████| 48/48 [00:09<00:00,  4.92it/s]\n",
      "100%|███████████████████████████████████████████| 10/10 [00:01<00:00,  5.16it/s]"
     ]
    },
    {
     "name": "stdout",
     "output_type": "stream",
     "text": [
      "25, 0.002071, 0.002374\n"
     ]
    },
    {
     "name": "stderr",
     "output_type": "stream",
     "text": [
      "\n",
      "100%|███████████████████████████████████████████| 48/48 [00:10<00:00,  4.77it/s]\n",
      "100%|███████████████████████████████████████████| 10/10 [00:01<00:00,  5.32it/s]\n"
     ]
    },
    {
     "name": "stdout",
     "output_type": "stream",
     "text": [
      "26, 0.002053, 0.002472\n",
      "Saving checkpoint to ../tasks/human_pose/experiments/resnet18_baseline_att_224x224_A.json.checkpoints/epoch_27.pth\n"
     ]
    },
    {
     "name": "stderr",
     "output_type": "stream",
     "text": [
      "100%|███████████████████████████████████████████| 48/48 [00:09<00:00,  5.31it/s]\n",
      "100%|███████████████████████████████████████████| 10/10 [00:02<00:00,  4.87it/s]"
     ]
    },
    {
     "name": "stdout",
     "output_type": "stream",
     "text": [
      "27, 0.002006, 0.002347\n"
     ]
    },
    {
     "name": "stderr",
     "output_type": "stream",
     "text": [
      "\n",
      "100%|███████████████████████████████████████████| 48/48 [00:09<00:00,  4.83it/s]\n",
      "100%|███████████████████████████████████████████| 10/10 [00:01<00:00,  6.42it/s]"
     ]
    },
    {
     "name": "stdout",
     "output_type": "stream",
     "text": [
      "28, 0.001968, 0.002367\n"
     ]
    },
    {
     "name": "stderr",
     "output_type": "stream",
     "text": [
      "\n",
      "100%|███████████████████████████████████████████| 48/48 [00:09<00:00,  4.85it/s]\n",
      "100%|███████████████████████████████████████████| 10/10 [00:02<00:00,  4.32it/s]\n"
     ]
    },
    {
     "name": "stdout",
     "output_type": "stream",
     "text": [
      "29, 0.001947, 0.002180\n",
      "Saving checkpoint to ../tasks/human_pose/experiments/resnet18_baseline_att_224x224_A.json.checkpoints/epoch_30.pth\n"
     ]
    },
    {
     "name": "stderr",
     "output_type": "stream",
     "text": [
      "100%|███████████████████████████████████████████| 48/48 [00:09<00:00,  5.01it/s]\n",
      "100%|███████████████████████████████████████████| 10/10 [00:02<00:00,  4.90it/s]"
     ]
    },
    {
     "name": "stdout",
     "output_type": "stream",
     "text": [
      "30, 0.001922, 0.002233\n"
     ]
    },
    {
     "name": "stderr",
     "output_type": "stream",
     "text": [
      "\n",
      "100%|███████████████████████████████████████████| 48/48 [00:09<00:00,  4.90it/s]\n",
      "100%|███████████████████████████████████████████| 10/10 [00:01<00:00,  5.63it/s]"
     ]
    },
    {
     "name": "stdout",
     "output_type": "stream",
     "text": [
      "31, 0.001900, 0.002281\n"
     ]
    },
    {
     "name": "stderr",
     "output_type": "stream",
     "text": [
      "\n",
      "100%|███████████████████████████████████████████| 48/48 [00:10<00:00,  4.78it/s]\n",
      "100%|███████████████████████████████████████████| 10/10 [00:01<00:00,  5.22it/s]"
     ]
    },
    {
     "name": "stdout",
     "output_type": "stream",
     "text": [
      "32, 0.001871, 0.002093\n",
      "Saving checkpoint to ../tasks/human_pose/experiments/resnet18_baseline_att_224x224_A.json.checkpoints/epoch_33.pth\n"
     ]
    },
    {
     "name": "stderr",
     "output_type": "stream",
     "text": [
      "\n",
      "100%|███████████████████████████████████████████| 48/48 [00:09<00:00,  4.83it/s]\n",
      "100%|███████████████████████████████████████████| 10/10 [00:01<00:00,  5.62it/s]"
     ]
    },
    {
     "name": "stdout",
     "output_type": "stream",
     "text": [
      "33, 0.001827, 0.002010\n"
     ]
    },
    {
     "name": "stderr",
     "output_type": "stream",
     "text": [
      "\n",
      "100%|███████████████████████████████████████████| 48/48 [00:10<00:00,  4.69it/s]\n",
      "100%|███████████████████████████████████████████| 10/10 [00:01<00:00,  5.48it/s]"
     ]
    },
    {
     "name": "stdout",
     "output_type": "stream",
     "text": [
      "34, 0.001804, 0.001914\n"
     ]
    },
    {
     "name": "stderr",
     "output_type": "stream",
     "text": [
      "\n",
      "100%|███████████████████████████████████████████| 48/48 [00:09<00:00,  4.85it/s]\n",
      "100%|███████████████████████████████████████████| 10/10 [00:01<00:00,  5.19it/s]\n"
     ]
    },
    {
     "name": "stdout",
     "output_type": "stream",
     "text": [
      "35, 0.001781, 0.001932\n",
      "Saving checkpoint to ../tasks/human_pose/experiments/resnet18_baseline_att_224x224_A.json.checkpoints/epoch_36.pth\n"
     ]
    },
    {
     "name": "stderr",
     "output_type": "stream",
     "text": [
      "100%|███████████████████████████████████████████| 48/48 [00:09<00:00,  4.88it/s]\n",
      "100%|███████████████████████████████████████████| 10/10 [00:01<00:00,  5.43it/s]"
     ]
    },
    {
     "name": "stdout",
     "output_type": "stream",
     "text": [
      "36, 0.001752, 0.001903\n"
     ]
    },
    {
     "name": "stderr",
     "output_type": "stream",
     "text": [
      "\n",
      "100%|███████████████████████████████████████████| 48/48 [00:09<00:00,  5.02it/s]\n",
      "100%|███████████████████████████████████████████| 10/10 [00:02<00:00,  4.89it/s]"
     ]
    },
    {
     "name": "stdout",
     "output_type": "stream",
     "text": [
      "37, 0.001740, 0.001883\n"
     ]
    },
    {
     "name": "stderr",
     "output_type": "stream",
     "text": [
      "\n",
      "100%|███████████████████████████████████████████| 48/48 [00:09<00:00,  4.97it/s]\n",
      "100%|███████████████████████████████████████████| 10/10 [00:01<00:00,  5.63it/s]\n"
     ]
    },
    {
     "name": "stdout",
     "output_type": "stream",
     "text": [
      "38, 0.001699, 0.001855\n",
      "Saving checkpoint to ../tasks/human_pose/experiments/resnet18_baseline_att_224x224_A.json.checkpoints/epoch_39.pth\n"
     ]
    },
    {
     "name": "stderr",
     "output_type": "stream",
     "text": [
      "100%|███████████████████████████████████████████| 48/48 [00:09<00:00,  4.96it/s]\n",
      "100%|███████████████████████████████████████████| 10/10 [00:01<00:00,  5.49it/s]"
     ]
    },
    {
     "name": "stdout",
     "output_type": "stream",
     "text": [
      "39, 0.001680, 0.001827\n"
     ]
    },
    {
     "name": "stderr",
     "output_type": "stream",
     "text": [
      "\n",
      "100%|███████████████████████████████████████████| 48/48 [00:09<00:00,  4.96it/s]\n",
      "100%|███████████████████████████████████████████| 10/10 [00:01<00:00,  5.05it/s]"
     ]
    },
    {
     "name": "stdout",
     "output_type": "stream",
     "text": [
      "40, 0.001653, 0.001847\n"
     ]
    },
    {
     "name": "stderr",
     "output_type": "stream",
     "text": [
      "\n",
      "100%|███████████████████████████████████████████| 48/48 [00:09<00:00,  5.03it/s]\n",
      "100%|███████████████████████████████████████████| 10/10 [00:01<00:00,  5.50it/s]"
     ]
    },
    {
     "name": "stdout",
     "output_type": "stream",
     "text": [
      "41, 0.001652, 0.001991\n",
      "Saving checkpoint to ../tasks/human_pose/experiments/resnet18_baseline_att_224x224_A.json.checkpoints/epoch_42.pth\n"
     ]
    },
    {
     "name": "stderr",
     "output_type": "stream",
     "text": [
      "\n",
      "100%|███████████████████████████████████████████| 48/48 [00:09<00:00,  5.24it/s]\n",
      "100%|███████████████████████████████████████████| 10/10 [00:01<00:00,  5.95it/s]"
     ]
    },
    {
     "name": "stdout",
     "output_type": "stream",
     "text": [
      "42, 0.001625, 0.001781\n"
     ]
    },
    {
     "name": "stderr",
     "output_type": "stream",
     "text": [
      "\n",
      "100%|███████████████████████████████████████████| 48/48 [00:09<00:00,  4.86it/s]\n",
      "100%|███████████████████████████████████████████| 10/10 [00:01<00:00,  5.15it/s]"
     ]
    },
    {
     "name": "stdout",
     "output_type": "stream",
     "text": [
      "43, 0.001621, 0.001795\n"
     ]
    },
    {
     "name": "stderr",
     "output_type": "stream",
     "text": [
      "\n",
      "100%|███████████████████████████████████████████| 48/48 [00:09<00:00,  4.83it/s]\n",
      "100%|███████████████████████████████████████████| 10/10 [00:01<00:00,  5.44it/s]"
     ]
    },
    {
     "name": "stdout",
     "output_type": "stream",
     "text": [
      "44, 0.001594, 0.001714\n",
      "Saving checkpoint to ../tasks/human_pose/experiments/resnet18_baseline_att_224x224_A.json.checkpoints/epoch_45.pth\n"
     ]
    },
    {
     "name": "stderr",
     "output_type": "stream",
     "text": [
      "\n",
      "100%|███████████████████████████████████████████| 48/48 [00:10<00:00,  4.70it/s]\n",
      "100%|███████████████████████████████████████████| 10/10 [00:01<00:00,  5.50it/s]"
     ]
    },
    {
     "name": "stdout",
     "output_type": "stream",
     "text": [
      "45, 0.001581, 0.001740\n"
     ]
    },
    {
     "name": "stderr",
     "output_type": "stream",
     "text": [
      "\n",
      "100%|███████████████████████████████████████████| 48/48 [00:10<00:00,  4.73it/s]\n",
      "100%|███████████████████████████████████████████| 10/10 [00:01<00:00,  5.71it/s]"
     ]
    },
    {
     "name": "stdout",
     "output_type": "stream",
     "text": [
      "46, 0.001558, 0.001825\n"
     ]
    },
    {
     "name": "stderr",
     "output_type": "stream",
     "text": [
      "\n",
      "100%|███████████████████████████████████████████| 48/48 [00:09<00:00,  4.98it/s]\n",
      "100%|███████████████████████████████████████████| 10/10 [00:02<00:00,  4.89it/s]\n"
     ]
    },
    {
     "name": "stdout",
     "output_type": "stream",
     "text": [
      "47, 0.001541, 0.001666\n",
      "Saving checkpoint to ../tasks/human_pose/experiments/resnet18_baseline_att_224x224_A.json.checkpoints/epoch_48.pth\n"
     ]
    },
    {
     "name": "stderr",
     "output_type": "stream",
     "text": [
      "100%|███████████████████████████████████████████| 48/48 [00:10<00:00,  4.72it/s]\n",
      "100%|███████████████████████████████████████████| 10/10 [00:02<00:00,  4.91it/s]"
     ]
    },
    {
     "name": "stdout",
     "output_type": "stream",
     "text": [
      "48, 0.001522, 0.001794\n"
     ]
    },
    {
     "name": "stderr",
     "output_type": "stream",
     "text": [
      "\n",
      "100%|███████████████████████████████████████████| 48/48 [00:10<00:00,  4.77it/s]\n",
      "100%|███████████████████████████████████████████| 10/10 [00:01<00:00,  5.48it/s]"
     ]
    },
    {
     "name": "stdout",
     "output_type": "stream",
     "text": [
      "49, 0.001528, 0.001661\n"
     ]
    },
    {
     "name": "stderr",
     "output_type": "stream",
     "text": [
      "\n",
      "100%|███████████████████████████████████████████| 48/48 [00:09<00:00,  5.00it/s]\n",
      "100%|███████████████████████████████████████████| 10/10 [00:01<00:00,  5.48it/s]"
     ]
    },
    {
     "name": "stdout",
     "output_type": "stream",
     "text": [
      "50, 0.001516, 0.001591\n",
      "Saving checkpoint to ../tasks/human_pose/experiments/resnet18_baseline_att_224x224_A.json.checkpoints/epoch_51.pth\n"
     ]
    },
    {
     "name": "stderr",
     "output_type": "stream",
     "text": [
      "\n",
      "100%|███████████████████████████████████████████| 48/48 [00:08<00:00,  5.41it/s]\n",
      "100%|███████████████████████████████████████████| 10/10 [00:01<00:00,  5.51it/s]"
     ]
    },
    {
     "name": "stdout",
     "output_type": "stream",
     "text": [
      "51, 0.001500, 0.001675\n"
     ]
    },
    {
     "name": "stderr",
     "output_type": "stream",
     "text": [
      "\n",
      "100%|███████████████████████████████████████████| 48/48 [00:10<00:00,  4.53it/s]\n",
      "100%|███████████████████████████████████████████| 10/10 [00:01<00:00,  5.26it/s]"
     ]
    },
    {
     "name": "stdout",
     "output_type": "stream",
     "text": [
      "52, 0.001470, 0.001572\n"
     ]
    },
    {
     "name": "stderr",
     "output_type": "stream",
     "text": [
      "\n",
      "100%|███████████████████████████████████████████| 48/48 [00:09<00:00,  4.83it/s]\n",
      "100%|███████████████████████████████████████████| 10/10 [00:01<00:00,  5.51it/s]\n"
     ]
    },
    {
     "name": "stdout",
     "output_type": "stream",
     "text": [
      "53, 0.001457, 0.001681\n",
      "Saving checkpoint to ../tasks/human_pose/experiments/resnet18_baseline_att_224x224_A.json.checkpoints/epoch_54.pth\n"
     ]
    },
    {
     "name": "stderr",
     "output_type": "stream",
     "text": [
      "100%|███████████████████████████████████████████| 48/48 [00:09<00:00,  4.81it/s]\n",
      "100%|███████████████████████████████████████████| 10/10 [00:01<00:00,  5.44it/s]"
     ]
    },
    {
     "name": "stdout",
     "output_type": "stream",
     "text": [
      "54, 0.001451, 0.001588\n"
     ]
    },
    {
     "name": "stderr",
     "output_type": "stream",
     "text": [
      "\n",
      "100%|███████████████████████████████████████████| 48/48 [00:09<00:00,  4.92it/s]\n",
      "100%|███████████████████████████████████████████| 10/10 [00:01<00:00,  5.41it/s]"
     ]
    },
    {
     "name": "stdout",
     "output_type": "stream",
     "text": [
      "55, 0.001451, 0.001597\n"
     ]
    },
    {
     "name": "stderr",
     "output_type": "stream",
     "text": [
      "\n",
      "100%|███████████████████████████████████████████| 48/48 [00:09<00:00,  5.10it/s]\n",
      "100%|███████████████████████████████████████████| 10/10 [00:01<00:00,  5.48it/s]\n"
     ]
    },
    {
     "name": "stdout",
     "output_type": "stream",
     "text": [
      "56, 0.001440, 0.001528\n",
      "Saving checkpoint to ../tasks/human_pose/experiments/resnet18_baseline_att_224x224_A.json.checkpoints/epoch_57.pth\n"
     ]
    },
    {
     "name": "stderr",
     "output_type": "stream",
     "text": [
      "100%|███████████████████████████████████████████| 48/48 [00:09<00:00,  5.25it/s]\n",
      "100%|███████████████████████████████████████████| 10/10 [00:02<00:00,  4.80it/s]"
     ]
    },
    {
     "name": "stdout",
     "output_type": "stream",
     "text": [
      "57, 0.001414, 0.001573\n"
     ]
    },
    {
     "name": "stderr",
     "output_type": "stream",
     "text": [
      "\n",
      "100%|███████████████████████████████████████████| 48/48 [00:10<00:00,  4.64it/s]\n",
      "100%|███████████████████████████████████████████| 10/10 [00:01<00:00,  5.27it/s]"
     ]
    },
    {
     "name": "stdout",
     "output_type": "stream",
     "text": [
      "58, 0.001424, 0.001481\n"
     ]
    },
    {
     "name": "stderr",
     "output_type": "stream",
     "text": [
      "\n",
      "100%|███████████████████████████████████████████| 48/48 [00:09<00:00,  4.99it/s]\n",
      "100%|███████████████████████████████████████████| 10/10 [00:02<00:00,  4.37it/s]\n"
     ]
    },
    {
     "name": "stdout",
     "output_type": "stream",
     "text": [
      "59, 0.001403, 0.001546\n",
      "Saving checkpoint to ../tasks/human_pose/experiments/resnet18_baseline_att_224x224_A.json.checkpoints/epoch_60.pth\n"
     ]
    },
    {
     "name": "stderr",
     "output_type": "stream",
     "text": [
      "100%|███████████████████████████████████████████| 48/48 [00:09<00:00,  4.80it/s]\n",
      "100%|███████████████████████████████████████████| 10/10 [00:01<00:00,  5.89it/s]"
     ]
    },
    {
     "name": "stdout",
     "output_type": "stream",
     "text": [
      "60, 0.001378, 0.001544\n"
     ]
    },
    {
     "name": "stderr",
     "output_type": "stream",
     "text": [
      "\n",
      "100%|███████████████████████████████████████████| 48/48 [00:09<00:00,  4.93it/s]\n",
      "100%|███████████████████████████████████████████| 10/10 [00:02<00:00,  4.95it/s]"
     ]
    },
    {
     "name": "stdout",
     "output_type": "stream",
     "text": [
      "61, 0.001370, 0.001464\n"
     ]
    },
    {
     "name": "stderr",
     "output_type": "stream",
     "text": [
      "\n",
      "100%|███████████████████████████████████████████| 48/48 [00:09<00:00,  5.27it/s]\n",
      "100%|███████████████████████████████████████████| 10/10 [00:02<00:00,  4.52it/s]"
     ]
    },
    {
     "name": "stdout",
     "output_type": "stream",
     "text": [
      "62, 0.001370, 0.001453\n",
      "Saving checkpoint to ../tasks/human_pose/experiments/resnet18_baseline_att_224x224_A.json.checkpoints/epoch_63.pth\n"
     ]
    },
    {
     "name": "stderr",
     "output_type": "stream",
     "text": [
      "\n",
      "100%|███████████████████████████████████████████| 48/48 [00:08<00:00,  5.55it/s]\n",
      "100%|███████████████████████████████████████████| 10/10 [00:02<00:00,  4.98it/s]"
     ]
    },
    {
     "name": "stdout",
     "output_type": "stream",
     "text": [
      "63, 0.001364, 0.001438\n"
     ]
    },
    {
     "name": "stderr",
     "output_type": "stream",
     "text": [
      "\n",
      "100%|███████████████████████████████████████████| 48/48 [00:09<00:00,  5.08it/s]\n",
      "100%|███████████████████████████████████████████| 10/10 [00:01<00:00,  5.02it/s]"
     ]
    },
    {
     "name": "stdout",
     "output_type": "stream",
     "text": [
      "64, 0.001338, 0.001609\n"
     ]
    },
    {
     "name": "stderr",
     "output_type": "stream",
     "text": [
      "\n",
      "100%|███████████████████████████████████████████| 48/48 [00:10<00:00,  4.79it/s]\n",
      "100%|███████████████████████████████████████████| 10/10 [00:02<00:00,  4.81it/s]\n"
     ]
    },
    {
     "name": "stdout",
     "output_type": "stream",
     "text": [
      "65, 0.001345, 0.001405\n",
      "Saving checkpoint to ../tasks/human_pose/experiments/resnet18_baseline_att_224x224_A.json.checkpoints/epoch_66.pth\n"
     ]
    },
    {
     "name": "stderr",
     "output_type": "stream",
     "text": [
      "100%|███████████████████████████████████████████| 48/48 [00:10<00:00,  4.74it/s]\n",
      "100%|███████████████████████████████████████████| 10/10 [00:01<00:00,  5.14it/s]"
     ]
    },
    {
     "name": "stdout",
     "output_type": "stream",
     "text": [
      "66, 0.001320, 0.001408\n"
     ]
    },
    {
     "name": "stderr",
     "output_type": "stream",
     "text": [
      "\n",
      "100%|███████████████████████████████████████████| 48/48 [00:09<00:00,  4.90it/s]\n",
      "100%|███████████████████████████████████████████| 10/10 [00:03<00:00,  2.99it/s]"
     ]
    },
    {
     "name": "stdout",
     "output_type": "stream",
     "text": [
      "67, 0.001313, 0.001411\n"
     ]
    },
    {
     "name": "stderr",
     "output_type": "stream",
     "text": [
      "\n",
      "100%|███████████████████████████████████████████| 48/48 [00:09<00:00,  4.86it/s]\n",
      "100%|███████████████████████████████████████████| 10/10 [00:01<00:00,  5.54it/s]\n"
     ]
    },
    {
     "name": "stdout",
     "output_type": "stream",
     "text": [
      "68, 0.001287, 0.001527\n",
      "Saving checkpoint to ../tasks/human_pose/experiments/resnet18_baseline_att_224x224_A.json.checkpoints/epoch_69.pth\n"
     ]
    },
    {
     "name": "stderr",
     "output_type": "stream",
     "text": [
      "100%|███████████████████████████████████████████| 48/48 [00:09<00:00,  5.01it/s]\n",
      "100%|███████████████████████████████████████████| 10/10 [00:02<00:00,  4.81it/s]"
     ]
    },
    {
     "name": "stdout",
     "output_type": "stream",
     "text": [
      "69, 0.001274, 0.001498\n"
     ]
    },
    {
     "name": "stderr",
     "output_type": "stream",
     "text": [
      "\n",
      "100%|███████████████████████████████████████████| 48/48 [00:09<00:00,  5.12it/s]\n",
      "100%|███████████████████████████████████████████| 10/10 [00:01<00:00,  5.15it/s]"
     ]
    },
    {
     "name": "stdout",
     "output_type": "stream",
     "text": [
      "70, 0.001268, 0.001420\n"
     ]
    },
    {
     "name": "stderr",
     "output_type": "stream",
     "text": [
      "\n",
      "100%|███████████████████████████████████████████| 48/48 [00:10<00:00,  4.78it/s]\n",
      "100%|███████████████████████████████████████████| 10/10 [00:01<00:00,  5.45it/s]\n"
     ]
    },
    {
     "name": "stdout",
     "output_type": "stream",
     "text": [
      "71, 0.001256, 0.001481\n",
      "Saving checkpoint to ../tasks/human_pose/experiments/resnet18_baseline_att_224x224_A.json.checkpoints/epoch_72.pth\n"
     ]
    },
    {
     "name": "stderr",
     "output_type": "stream",
     "text": [
      "100%|███████████████████████████████████████████| 48/48 [00:09<00:00,  4.99it/s]\n",
      "100%|███████████████████████████████████████████| 10/10 [00:01<00:00,  5.77it/s]"
     ]
    },
    {
     "name": "stdout",
     "output_type": "stream",
     "text": [
      "72, 0.001257, 0.001442\n"
     ]
    },
    {
     "name": "stderr",
     "output_type": "stream",
     "text": [
      "\n",
      "100%|███████████████████████████████████████████| 48/48 [00:10<00:00,  4.79it/s]\n",
      "100%|███████████████████████████████████████████| 10/10 [00:01<00:00,  5.75it/s]"
     ]
    },
    {
     "name": "stdout",
     "output_type": "stream",
     "text": [
      "73, 0.001232, 0.001293\n"
     ]
    },
    {
     "name": "stderr",
     "output_type": "stream",
     "text": [
      "\n",
      "100%|███████████████████████████████████████████| 48/48 [00:09<00:00,  5.09it/s]\n",
      "100%|███████████████████████████████████████████| 10/10 [00:01<00:00,  6.37it/s]"
     ]
    },
    {
     "name": "stdout",
     "output_type": "stream",
     "text": [
      "74, 0.001230, 0.001370\n",
      "Adjusting learning rate to 0.000100\n",
      "Saving checkpoint to ../tasks/human_pose/experiments/resnet18_baseline_att_224x224_A.json.checkpoints/epoch_75.pth\n"
     ]
    },
    {
     "name": "stderr",
     "output_type": "stream",
     "text": [
      "\n",
      "100%|███████████████████████████████████████████| 48/48 [00:09<00:00,  4.88it/s]\n",
      "100%|███████████████████████████████████████████| 10/10 [00:01<00:00,  5.66it/s]"
     ]
    },
    {
     "name": "stdout",
     "output_type": "stream",
     "text": [
      "75, 0.001175, 0.001163\n"
     ]
    },
    {
     "name": "stderr",
     "output_type": "stream",
     "text": [
      "\n",
      "100%|███████████████████████████████████████████| 48/48 [00:09<00:00,  4.86it/s]\n",
      "100%|███████████████████████████████████████████| 10/10 [00:01<00:00,  5.89it/s]"
     ]
    },
    {
     "name": "stdout",
     "output_type": "stream",
     "text": [
      "76, 0.001135, 0.001249\n"
     ]
    },
    {
     "name": "stderr",
     "output_type": "stream",
     "text": [
      "\n",
      "100%|███████████████████████████████████████████| 48/48 [00:10<00:00,  4.66it/s]\n",
      "100%|███████████████████████████████████████████| 10/10 [00:02<00:00,  4.84it/s]\n"
     ]
    },
    {
     "name": "stdout",
     "output_type": "stream",
     "text": [
      "77, 0.001109, 0.001139\n",
      "Saving checkpoint to ../tasks/human_pose/experiments/resnet18_baseline_att_224x224_A.json.checkpoints/epoch_78.pth\n"
     ]
    },
    {
     "name": "stderr",
     "output_type": "stream",
     "text": [
      "100%|███████████████████████████████████████████| 48/48 [00:09<00:00,  5.08it/s]\n",
      "100%|███████████████████████████████████████████| 10/10 [00:01<00:00,  5.89it/s]"
     ]
    },
    {
     "name": "stdout",
     "output_type": "stream",
     "text": [
      "78, 0.001105, 0.001175\n"
     ]
    },
    {
     "name": "stderr",
     "output_type": "stream",
     "text": [
      "\n",
      "100%|███████████████████████████████████████████| 48/48 [00:09<00:00,  5.19it/s]\n",
      "100%|███████████████████████████████████████████| 10/10 [00:01<00:00,  5.90it/s]"
     ]
    },
    {
     "name": "stdout",
     "output_type": "stream",
     "text": [
      "79, 0.001103, 0.001164\n"
     ]
    },
    {
     "name": "stderr",
     "output_type": "stream",
     "text": [
      "\n",
      "100%|███████████████████████████████████████████| 48/48 [00:09<00:00,  5.20it/s]\n",
      "100%|███████████████████████████████████████████| 10/10 [00:01<00:00,  5.63it/s]"
     ]
    },
    {
     "name": "stdout",
     "output_type": "stream",
     "text": [
      "80, 0.001112, 0.001168\n",
      "Saving checkpoint to ../tasks/human_pose/experiments/resnet18_baseline_att_224x224_A.json.checkpoints/epoch_81.pth\n"
     ]
    },
    {
     "name": "stderr",
     "output_type": "stream",
     "text": [
      "\n",
      "100%|███████████████████████████████████████████| 48/48 [00:08<00:00,  5.34it/s]\n",
      "100%|███████████████████████████████████████████| 10/10 [00:01<00:00,  5.63it/s]"
     ]
    },
    {
     "name": "stdout",
     "output_type": "stream",
     "text": [
      "81, 0.001087, 0.001229\n"
     ]
    },
    {
     "name": "stderr",
     "output_type": "stream",
     "text": [
      "\n",
      "100%|███████████████████████████████████████████| 48/48 [00:09<00:00,  4.90it/s]\n",
      "100%|███████████████████████████████████████████| 10/10 [00:01<00:00,  5.28it/s]"
     ]
    },
    {
     "name": "stdout",
     "output_type": "stream",
     "text": [
      "82, 0.001090, 0.001129\n"
     ]
    },
    {
     "name": "stderr",
     "output_type": "stream",
     "text": [
      "\n",
      "100%|███████████████████████████████████████████| 48/48 [00:09<00:00,  4.84it/s]\n",
      "100%|███████████████████████████████████████████| 10/10 [00:01<00:00,  5.28it/s]\n"
     ]
    },
    {
     "name": "stdout",
     "output_type": "stream",
     "text": [
      "83, 0.001072, 0.001136\n",
      "Saving checkpoint to ../tasks/human_pose/experiments/resnet18_baseline_att_224x224_A.json.checkpoints/epoch_84.pth\n"
     ]
    },
    {
     "name": "stderr",
     "output_type": "stream",
     "text": [
      "100%|███████████████████████████████████████████| 48/48 [00:10<00:00,  4.76it/s]\n",
      "100%|███████████████████████████████████████████| 10/10 [00:01<00:00,  6.75it/s]"
     ]
    },
    {
     "name": "stdout",
     "output_type": "stream",
     "text": [
      "84, 0.001088, 0.001200\n"
     ]
    },
    {
     "name": "stderr",
     "output_type": "stream",
     "text": [
      "\n",
      "100%|███████████████████████████████████████████| 48/48 [00:09<00:00,  4.81it/s]\n",
      "100%|███████████████████████████████████████████| 10/10 [00:02<00:00,  4.63it/s]"
     ]
    },
    {
     "name": "stdout",
     "output_type": "stream",
     "text": [
      "85, 0.001064, 0.001170\n"
     ]
    },
    {
     "name": "stderr",
     "output_type": "stream",
     "text": [
      "\n",
      "100%|███████████████████████████████████████████| 48/48 [00:09<00:00,  4.93it/s]\n",
      "100%|███████████████████████████████████████████| 10/10 [00:01<00:00,  5.11it/s]\n"
     ]
    },
    {
     "name": "stdout",
     "output_type": "stream",
     "text": [
      "86, 0.001072, 0.001150\n",
      "Saving checkpoint to ../tasks/human_pose/experiments/resnet18_baseline_att_224x224_A.json.checkpoints/epoch_87.pth\n"
     ]
    },
    {
     "name": "stderr",
     "output_type": "stream",
     "text": [
      "100%|███████████████████████████████████████████| 48/48 [00:09<00:00,  5.13it/s]\n",
      "100%|███████████████████████████████████████████| 10/10 [00:01<00:00,  5.88it/s]"
     ]
    },
    {
     "name": "stdout",
     "output_type": "stream",
     "text": [
      "87, 0.001063, 0.001128\n"
     ]
    },
    {
     "name": "stderr",
     "output_type": "stream",
     "text": [
      "\n",
      "100%|███████████████████████████████████████████| 48/48 [00:10<00:00,  4.76it/s]\n",
      "100%|███████████████████████████████████████████| 10/10 [00:01<00:00,  5.16it/s]"
     ]
    },
    {
     "name": "stdout",
     "output_type": "stream",
     "text": [
      "88, 0.001060, 0.001171\n"
     ]
    },
    {
     "name": "stderr",
     "output_type": "stream",
     "text": [
      "\n",
      "100%|███████████████████████████████████████████| 48/48 [00:09<00:00,  4.97it/s]\n",
      "100%|███████████████████████████████████████████| 10/10 [00:01<00:00,  5.50it/s]\n"
     ]
    },
    {
     "name": "stdout",
     "output_type": "stream",
     "text": [
      "89, 0.001063, 0.001121\n",
      "Saving checkpoint to ../tasks/human_pose/experiments/resnet18_baseline_att_224x224_A.json.checkpoints/epoch_90.pth\n"
     ]
    },
    {
     "name": "stderr",
     "output_type": "stream",
     "text": [
      "100%|███████████████████████████████████████████| 48/48 [00:10<00:00,  4.79it/s]\n",
      "100%|███████████████████████████████████████████| 10/10 [00:01<00:00,  5.21it/s]"
     ]
    },
    {
     "name": "stdout",
     "output_type": "stream",
     "text": [
      "90, 0.001044, 0.001150\n"
     ]
    },
    {
     "name": "stderr",
     "output_type": "stream",
     "text": [
      "\n",
      "100%|███████████████████████████████████████████| 48/48 [00:09<00:00,  4.88it/s]\n",
      "100%|███████████████████████████████████████████| 10/10 [00:01<00:00,  5.44it/s]"
     ]
    },
    {
     "name": "stdout",
     "output_type": "stream",
     "text": [
      "91, 0.001049, 0.001170\n"
     ]
    },
    {
     "name": "stderr",
     "output_type": "stream",
     "text": [
      "\n",
      "100%|███████████████████████████████████████████| 48/48 [00:10<00:00,  4.53it/s]\n",
      "100%|███████████████████████████████████████████| 10/10 [00:03<00:00,  2.99it/s]"
     ]
    },
    {
     "name": "stdout",
     "output_type": "stream",
     "text": [
      "92, 0.001044, 0.001096\n",
      "Saving checkpoint to ../tasks/human_pose/experiments/resnet18_baseline_att_224x224_A.json.checkpoints/epoch_93.pth\n"
     ]
    },
    {
     "name": "stderr",
     "output_type": "stream",
     "text": [
      "\n",
      "100%|███████████████████████████████████████████| 48/48 [00:09<00:00,  5.06it/s]\n",
      "100%|███████████████████████████████████████████| 10/10 [00:01<00:00,  5.73it/s]"
     ]
    },
    {
     "name": "stdout",
     "output_type": "stream",
     "text": [
      "93, 0.001039, 0.001224\n"
     ]
    },
    {
     "name": "stderr",
     "output_type": "stream",
     "text": [
      "\n",
      "100%|███████████████████████████████████████████| 48/48 [00:09<00:00,  4.92it/s]\n",
      "100%|███████████████████████████████████████████| 10/10 [00:01<00:00,  5.53it/s]"
     ]
    },
    {
     "name": "stdout",
     "output_type": "stream",
     "text": [
      "94, 0.001045, 0.001222\n"
     ]
    },
    {
     "name": "stderr",
     "output_type": "stream",
     "text": [
      "\n",
      "100%|███████████████████████████████████████████| 48/48 [00:08<00:00,  5.36it/s]\n",
      "100%|███████████████████████████████████████████| 10/10 [00:02<00:00,  4.41it/s]"
     ]
    },
    {
     "name": "stdout",
     "output_type": "stream",
     "text": [
      "95, 0.001032, 0.001128\n",
      "Saving checkpoint to ../tasks/human_pose/experiments/resnet18_baseline_att_224x224_A.json.checkpoints/epoch_96.pth\n"
     ]
    },
    {
     "name": "stderr",
     "output_type": "stream",
     "text": [
      "\n",
      "100%|███████████████████████████████████████████| 48/48 [00:09<00:00,  5.32it/s]\n",
      "100%|███████████████████████████████████████████| 10/10 [00:01<00:00,  6.78it/s]"
     ]
    },
    {
     "name": "stdout",
     "output_type": "stream",
     "text": [
      "96, 0.001033, 0.001122\n"
     ]
    },
    {
     "name": "stderr",
     "output_type": "stream",
     "text": [
      "\n",
      "100%|███████████████████████████████████████████| 48/48 [00:09<00:00,  4.85it/s]\n",
      "100%|███████████████████████████████████████████| 10/10 [00:01<00:00,  6.07it/s]"
     ]
    },
    {
     "name": "stdout",
     "output_type": "stream",
     "text": [
      "97, 0.001033, 0.001100\n"
     ]
    },
    {
     "name": "stderr",
     "output_type": "stream",
     "text": [
      "\n",
      "100%|███████████████████████████████████████████| 48/48 [00:09<00:00,  5.26it/s]\n",
      "100%|███████████████████████████████████████████| 10/10 [00:01<00:00,  5.09it/s]"
     ]
    },
    {
     "name": "stdout",
     "output_type": "stream",
     "text": [
      "98, 0.001021, 0.001165\n",
      "Saving checkpoint to ../tasks/human_pose/experiments/resnet18_baseline_att_224x224_A.json.checkpoints/epoch_99.pth\n"
     ]
    },
    {
     "name": "stderr",
     "output_type": "stream",
     "text": [
      "\n",
      "100%|███████████████████████████████████████████| 48/48 [00:09<00:00,  4.83it/s]\n",
      "100%|███████████████████████████████████████████| 10/10 [00:01<00:00,  5.44it/s]"
     ]
    },
    {
     "name": "stdout",
     "output_type": "stream",
     "text": [
      "99, 0.001023, 0.001182\n"
     ]
    },
    {
     "name": "stderr",
     "output_type": "stream",
     "text": [
      "\n",
      "100%|███████████████████████████████████████████| 48/48 [00:10<00:00,  4.73it/s]\n",
      "100%|███████████████████████████████████████████| 10/10 [00:01<00:00,  5.32it/s]"
     ]
    },
    {
     "name": "stdout",
     "output_type": "stream",
     "text": [
      "100, 0.001005, 0.001120\n"
     ]
    },
    {
     "name": "stderr",
     "output_type": "stream",
     "text": [
      "\n",
      "100%|███████████████████████████████████████████| 48/48 [00:09<00:00,  5.19it/s]\n",
      "100%|███████████████████████████████████████████| 10/10 [00:01<00:00,  5.45it/s]\n"
     ]
    },
    {
     "name": "stdout",
     "output_type": "stream",
     "text": [
      "101, 0.001021, 0.001071\n",
      "Saving checkpoint to ../tasks/human_pose/experiments/resnet18_baseline_att_224x224_A.json.checkpoints/epoch_102.pth\n"
     ]
    },
    {
     "name": "stderr",
     "output_type": "stream",
     "text": [
      "100%|███████████████████████████████████████████| 48/48 [00:09<00:00,  4.87it/s]\n",
      "100%|███████████████████████████████████████████| 10/10 [00:03<00:00,  3.21it/s]"
     ]
    },
    {
     "name": "stdout",
     "output_type": "stream",
     "text": [
      "102, 0.001011, 0.001139\n"
     ]
    },
    {
     "name": "stderr",
     "output_type": "stream",
     "text": [
      "\n",
      "100%|███████████████████████████████████████████| 48/48 [00:09<00:00,  5.16it/s]\n",
      "100%|███████████████████████████████████████████| 10/10 [00:01<00:00,  5.40it/s]"
     ]
    },
    {
     "name": "stdout",
     "output_type": "stream",
     "text": [
      "103, 0.001021, 0.001065\n"
     ]
    },
    {
     "name": "stderr",
     "output_type": "stream",
     "text": [
      "\n",
      "100%|███████████████████████████████████████████| 48/48 [00:09<00:00,  4.86it/s]\n",
      "100%|███████████████████████████████████████████| 10/10 [00:02<00:00,  4.77it/s]\n"
     ]
    },
    {
     "name": "stdout",
     "output_type": "stream",
     "text": [
      "104, 0.001010, 0.001072\n",
      "Saving checkpoint to ../tasks/human_pose/experiments/resnet18_baseline_att_224x224_A.json.checkpoints/epoch_105.pth\n"
     ]
    },
    {
     "name": "stderr",
     "output_type": "stream",
     "text": [
      "100%|███████████████████████████████████████████| 48/48 [00:09<00:00,  4.81it/s]\n",
      "100%|███████████████████████████████████████████| 10/10 [00:01<00:00,  5.00it/s]"
     ]
    },
    {
     "name": "stdout",
     "output_type": "stream",
     "text": [
      "105, 0.001009, 0.001128\n"
     ]
    },
    {
     "name": "stderr",
     "output_type": "stream",
     "text": [
      "\n",
      "100%|███████████████████████████████████████████| 48/48 [00:09<00:00,  5.09it/s]\n",
      "100%|███████████████████████████████████████████| 10/10 [00:01<00:00,  5.06it/s]"
     ]
    },
    {
     "name": "stdout",
     "output_type": "stream",
     "text": [
      "106, 0.001011, 0.001129\n"
     ]
    },
    {
     "name": "stderr",
     "output_type": "stream",
     "text": [
      "\n",
      "100%|███████████████████████████████████████████| 48/48 [00:09<00:00,  5.02it/s]\n",
      "100%|███████████████████████████████████████████| 10/10 [00:01<00:00,  5.37it/s]\n"
     ]
    },
    {
     "name": "stdout",
     "output_type": "stream",
     "text": [
      "107, 0.001005, 0.001098\n",
      "Saving checkpoint to ../tasks/human_pose/experiments/resnet18_baseline_att_224x224_A.json.checkpoints/epoch_108.pth\n"
     ]
    },
    {
     "name": "stderr",
     "output_type": "stream",
     "text": [
      "100%|███████████████████████████████████████████| 48/48 [00:10<00:00,  4.79it/s]\n",
      "100%|███████████████████████████████████████████| 10/10 [00:01<00:00,  5.70it/s]"
     ]
    },
    {
     "name": "stdout",
     "output_type": "stream",
     "text": [
      "108, 0.001013, 0.001119\n"
     ]
    },
    {
     "name": "stderr",
     "output_type": "stream",
     "text": [
      "\n",
      "100%|███████████████████████████████████████████| 48/48 [00:09<00:00,  5.27it/s]\n",
      "100%|███████████████████████████████████████████| 10/10 [00:01<00:00,  5.35it/s]"
     ]
    },
    {
     "name": "stdout",
     "output_type": "stream",
     "text": [
      "109, 0.000995, 0.001172\n"
     ]
    },
    {
     "name": "stderr",
     "output_type": "stream",
     "text": [
      "\n",
      "100%|███████████████████████████████████████████| 48/48 [00:10<00:00,  4.61it/s]\n",
      "100%|███████████████████████████████████████████| 10/10 [00:02<00:00,  4.81it/s]\n"
     ]
    },
    {
     "name": "stdout",
     "output_type": "stream",
     "text": [
      "110, 0.000997, 0.001227\n",
      "Saving checkpoint to ../tasks/human_pose/experiments/resnet18_baseline_att_224x224_A.json.checkpoints/epoch_111.pth\n"
     ]
    },
    {
     "name": "stderr",
     "output_type": "stream",
     "text": [
      "100%|███████████████████████████████████████████| 48/48 [00:09<00:00,  4.80it/s]\n",
      "100%|███████████████████████████████████████████| 10/10 [00:03<00:00,  3.15it/s]"
     ]
    },
    {
     "name": "stdout",
     "output_type": "stream",
     "text": [
      "111, 0.001001, 0.001690\n"
     ]
    },
    {
     "name": "stderr",
     "output_type": "stream",
     "text": [
      "\n",
      "100%|███████████████████████████████████████████| 48/48 [00:09<00:00,  5.23it/s]\n",
      "100%|███████████████████████████████████████████| 10/10 [00:01<00:00,  5.32it/s]"
     ]
    },
    {
     "name": "stdout",
     "output_type": "stream",
     "text": [
      "112, 0.000994, 0.001236\n"
     ]
    },
    {
     "name": "stderr",
     "output_type": "stream",
     "text": [
      "\n",
      "100%|███████████████████████████████████████████| 48/48 [00:09<00:00,  4.82it/s]\n",
      "100%|███████████████████████████████████████████| 10/10 [00:01<00:00,  5.38it/s]\n"
     ]
    },
    {
     "name": "stdout",
     "output_type": "stream",
     "text": [
      "113, 0.000991, 0.001168\n",
      "Saving checkpoint to ../tasks/human_pose/experiments/resnet18_baseline_att_224x224_A.json.checkpoints/epoch_114.pth\n"
     ]
    },
    {
     "name": "stderr",
     "output_type": "stream",
     "text": [
      "100%|███████████████████████████████████████████| 48/48 [00:09<00:00,  5.32it/s]\n",
      "100%|███████████████████████████████████████████| 10/10 [00:01<00:00,  5.11it/s]"
     ]
    },
    {
     "name": "stdout",
     "output_type": "stream",
     "text": [
      "114, 0.000992, 0.001120\n"
     ]
    },
    {
     "name": "stderr",
     "output_type": "stream",
     "text": [
      "\n",
      "100%|███████████████████████████████████████████| 48/48 [00:10<00:00,  4.78it/s]\n",
      "100%|███████████████████████████████████████████| 10/10 [00:01<00:00,  5.38it/s]"
     ]
    },
    {
     "name": "stdout",
     "output_type": "stream",
     "text": [
      "115, 0.000984, 0.001115\n"
     ]
    },
    {
     "name": "stderr",
     "output_type": "stream",
     "text": [
      "\n",
      "100%|███████████████████████████████████████████| 48/48 [00:10<00:00,  4.79it/s]\n",
      "100%|███████████████████████████████████████████| 10/10 [00:01<00:00,  6.35it/s]"
     ]
    },
    {
     "name": "stdout",
     "output_type": "stream",
     "text": [
      "116, 0.000985, 0.001138\n",
      "Saving checkpoint to ../tasks/human_pose/experiments/resnet18_baseline_att_224x224_A.json.checkpoints/epoch_117.pth\n"
     ]
    },
    {
     "name": "stderr",
     "output_type": "stream",
     "text": [
      "\n",
      "100%|███████████████████████████████████████████| 48/48 [00:09<00:00,  4.89it/s]\n",
      "100%|███████████████████████████████████████████| 10/10 [00:02<00:00,  4.72it/s]"
     ]
    },
    {
     "name": "stdout",
     "output_type": "stream",
     "text": [
      "117, 0.000988, 0.001119\n"
     ]
    },
    {
     "name": "stderr",
     "output_type": "stream",
     "text": [
      "\n",
      "100%|███████████████████████████████████████████| 48/48 [00:09<00:00,  4.88it/s]\n",
      "100%|███████████████████████████████████████████| 10/10 [00:02<00:00,  4.82it/s]"
     ]
    },
    {
     "name": "stdout",
     "output_type": "stream",
     "text": [
      "118, 0.000971, 0.001098\n"
     ]
    },
    {
     "name": "stderr",
     "output_type": "stream",
     "text": [
      "\n",
      "100%|███████████████████████████████████████████| 48/48 [00:09<00:00,  5.32it/s]\n",
      "100%|███████████████████████████████████████████| 10/10 [00:01<00:00,  5.34it/s]"
     ]
    },
    {
     "name": "stdout",
     "output_type": "stream",
     "text": [
      "119, 0.000972, 0.001052\n",
      "Saving checkpoint to ../tasks/human_pose/experiments/resnet18_baseline_att_224x224_A.json.checkpoints/epoch_120.pth\n"
     ]
    },
    {
     "name": "stderr",
     "output_type": "stream",
     "text": [
      "\n",
      "100%|███████████████████████████████████████████| 48/48 [00:09<00:00,  5.17it/s]\n",
      "100%|███████████████████████████████████████████| 10/10 [00:01<00:00,  5.26it/s]"
     ]
    },
    {
     "name": "stdout",
     "output_type": "stream",
     "text": [
      "120, 0.000963, 0.001070\n"
     ]
    },
    {
     "name": "stderr",
     "output_type": "stream",
     "text": [
      "\n",
      "100%|███████████████████████████████████████████| 48/48 [00:10<00:00,  4.73it/s]\n",
      "100%|███████████████████████████████████████████| 10/10 [00:01<00:00,  5.83it/s]"
     ]
    },
    {
     "name": "stdout",
     "output_type": "stream",
     "text": [
      "121, 0.000972, 0.001130\n"
     ]
    },
    {
     "name": "stderr",
     "output_type": "stream",
     "text": [
      "\n",
      "100%|███████████████████████████████████████████| 48/48 [00:09<00:00,  5.00it/s]\n",
      "100%|███████████████████████████████████████████| 10/10 [00:01<00:00,  5.47it/s]"
     ]
    },
    {
     "name": "stdout",
     "output_type": "stream",
     "text": [
      "122, 0.000973, 0.001074\n",
      "Saving checkpoint to ../tasks/human_pose/experiments/resnet18_baseline_att_224x224_A.json.checkpoints/epoch_123.pth\n"
     ]
    },
    {
     "name": "stderr",
     "output_type": "stream",
     "text": [
      "\n",
      "100%|███████████████████████████████████████████| 48/48 [00:09<00:00,  5.22it/s]\n",
      "100%|███████████████████████████████████████████| 10/10 [00:02<00:00,  4.50it/s]"
     ]
    },
    {
     "name": "stdout",
     "output_type": "stream",
     "text": [
      "123, 0.000968, 0.001127\n"
     ]
    },
    {
     "name": "stderr",
     "output_type": "stream",
     "text": [
      "\n",
      "100%|███████████████████████████████████████████| 48/48 [00:09<00:00,  4.99it/s]\n",
      "100%|███████████████████████████████████████████| 10/10 [00:01<00:00,  5.34it/s]"
     ]
    },
    {
     "name": "stdout",
     "output_type": "stream",
     "text": [
      "124, 0.000955, 0.001077\n"
     ]
    },
    {
     "name": "stderr",
     "output_type": "stream",
     "text": [
      "\n",
      "100%|███████████████████████████████████████████| 48/48 [00:09<00:00,  4.96it/s]\n",
      "100%|███████████████████████████████████████████| 10/10 [00:02<00:00,  4.90it/s]"
     ]
    },
    {
     "name": "stdout",
     "output_type": "stream",
     "text": [
      "125, 0.000955, 0.001104\n",
      "Saving checkpoint to ../tasks/human_pose/experiments/resnet18_baseline_att_224x224_A.json.checkpoints/epoch_126.pth\n"
     ]
    },
    {
     "name": "stderr",
     "output_type": "stream",
     "text": [
      "\n",
      "100%|███████████████████████████████████████████| 48/48 [00:09<00:00,  4.97it/s]\n",
      "100%|███████████████████████████████████████████| 10/10 [00:02<00:00,  4.79it/s]"
     ]
    },
    {
     "name": "stdout",
     "output_type": "stream",
     "text": [
      "126, 0.000951, 0.001071\n"
     ]
    },
    {
     "name": "stderr",
     "output_type": "stream",
     "text": [
      "\n",
      "100%|███████████████████████████████████████████| 48/48 [00:08<00:00,  5.67it/s]\n",
      "100%|███████████████████████████████████████████| 10/10 [00:01<00:00,  5.30it/s]"
     ]
    },
    {
     "name": "stdout",
     "output_type": "stream",
     "text": [
      "127, 0.000945, 0.001072\n"
     ]
    },
    {
     "name": "stderr",
     "output_type": "stream",
     "text": [
      "\n",
      "100%|███████████████████████████████████████████| 48/48 [00:09<00:00,  5.04it/s]\n",
      "100%|███████████████████████████████████████████| 10/10 [00:01<00:00,  5.83it/s]"
     ]
    },
    {
     "name": "stdout",
     "output_type": "stream",
     "text": [
      "128, 0.000953, 0.001131\n",
      "Saving checkpoint to ../tasks/human_pose/experiments/resnet18_baseline_att_224x224_A.json.checkpoints/epoch_129.pth\n"
     ]
    },
    {
     "name": "stderr",
     "output_type": "stream",
     "text": [
      "\n",
      "100%|███████████████████████████████████████████| 48/48 [00:09<00:00,  4.86it/s]\n",
      "100%|███████████████████████████████████████████| 10/10 [00:01<00:00,  5.66it/s]"
     ]
    },
    {
     "name": "stdout",
     "output_type": "stream",
     "text": [
      "129, 0.000953, 0.001094\n"
     ]
    },
    {
     "name": "stderr",
     "output_type": "stream",
     "text": [
      "\n",
      "100%|███████████████████████████████████████████| 48/48 [00:09<00:00,  5.02it/s]\n",
      "100%|███████████████████████████████████████████| 10/10 [00:01<00:00,  5.63it/s]"
     ]
    },
    {
     "name": "stdout",
     "output_type": "stream",
     "text": [
      "130, 0.000951, 0.001229\n"
     ]
    },
    {
     "name": "stderr",
     "output_type": "stream",
     "text": [
      "\n",
      "100%|███████████████████████████████████████████| 48/48 [00:09<00:00,  5.02it/s]\n",
      "100%|███████████████████████████████████████████| 10/10 [00:02<00:00,  4.97it/s]"
     ]
    },
    {
     "name": "stdout",
     "output_type": "stream",
     "text": [
      "131, 0.000939, 0.001217\n",
      "Saving checkpoint to ../tasks/human_pose/experiments/resnet18_baseline_att_224x224_A.json.checkpoints/epoch_132.pth\n"
     ]
    },
    {
     "name": "stderr",
     "output_type": "stream",
     "text": [
      "\n",
      "100%|███████████████████████████████████████████| 48/48 [00:09<00:00,  5.16it/s]\n",
      "100%|███████████████████████████████████████████| 10/10 [00:02<00:00,  4.79it/s]"
     ]
    },
    {
     "name": "stdout",
     "output_type": "stream",
     "text": [
      "132, 0.000939, 0.001104\n"
     ]
    },
    {
     "name": "stderr",
     "output_type": "stream",
     "text": [
      "\n",
      "100%|███████████████████████████████████████████| 48/48 [00:09<00:00,  4.93it/s]\n",
      "100%|███████████████████████████████████████████| 10/10 [00:01<00:00,  5.16it/s]"
     ]
    },
    {
     "name": "stdout",
     "output_type": "stream",
     "text": [
      "133, 0.000947, 0.001091\n"
     ]
    },
    {
     "name": "stderr",
     "output_type": "stream",
     "text": [
      "\n",
      "100%|███████████████████████████████████████████| 48/48 [00:09<00:00,  5.24it/s]\n",
      "100%|███████████████████████████████████████████| 10/10 [00:01<00:00,  5.08it/s]"
     ]
    },
    {
     "name": "stdout",
     "output_type": "stream",
     "text": [
      "134, 0.000931, 0.001106\n",
      "Saving checkpoint to ../tasks/human_pose/experiments/resnet18_baseline_att_224x224_A.json.checkpoints/epoch_135.pth\n"
     ]
    },
    {
     "name": "stderr",
     "output_type": "stream",
     "text": [
      "\n",
      "100%|███████████████████████████████████████████| 48/48 [00:08<00:00,  5.38it/s]\n",
      "100%|███████████████████████████████████████████| 10/10 [00:01<00:00,  6.03it/s]"
     ]
    },
    {
     "name": "stdout",
     "output_type": "stream",
     "text": [
      "135, 0.000929, 0.001063\n"
     ]
    },
    {
     "name": "stderr",
     "output_type": "stream",
     "text": [
      "\n",
      "100%|███████████████████████████████████████████| 48/48 [00:09<00:00,  4.86it/s]\n",
      "100%|███████████████████████████████████████████| 10/10 [00:01<00:00,  5.52it/s]"
     ]
    },
    {
     "name": "stdout",
     "output_type": "stream",
     "text": [
      "136, 0.000927, 0.001062\n"
     ]
    },
    {
     "name": "stderr",
     "output_type": "stream",
     "text": [
      "\n",
      "100%|███████████████████████████████████████████| 48/48 [00:08<00:00,  5.72it/s]\n",
      "100%|███████████████████████████████████████████| 10/10 [00:01<00:00,  5.66it/s]"
     ]
    },
    {
     "name": "stdout",
     "output_type": "stream",
     "text": [
      "137, 0.000926, 0.001098\n",
      "Saving checkpoint to ../tasks/human_pose/experiments/resnet18_baseline_att_224x224_A.json.checkpoints/epoch_138.pth\n"
     ]
    },
    {
     "name": "stderr",
     "output_type": "stream",
     "text": [
      "\n",
      "100%|███████████████████████████████████████████| 48/48 [00:09<00:00,  4.99it/s]\n",
      "100%|███████████████████████████████████████████| 10/10 [00:01<00:00,  5.46it/s]"
     ]
    },
    {
     "name": "stdout",
     "output_type": "stream",
     "text": [
      "138, 0.000939, 0.001048\n"
     ]
    },
    {
     "name": "stderr",
     "output_type": "stream",
     "text": [
      "\n",
      "100%|███████████████████████████████████████████| 48/48 [00:09<00:00,  5.06it/s]\n",
      "100%|███████████████████████████████████████████| 10/10 [00:01<00:00,  5.32it/s]"
     ]
    },
    {
     "name": "stdout",
     "output_type": "stream",
     "text": [
      "139, 0.000910, 0.001209\n"
     ]
    },
    {
     "name": "stderr",
     "output_type": "stream",
     "text": [
      "\n",
      "100%|███████████████████████████████████████████| 48/48 [00:09<00:00,  5.19it/s]\n",
      "100%|███████████████████████████████████████████| 10/10 [00:01<00:00,  5.51it/s]\n"
     ]
    },
    {
     "name": "stdout",
     "output_type": "stream",
     "text": [
      "140, 0.000929, 0.001185\n",
      "Saving checkpoint to ../tasks/human_pose/experiments/resnet18_baseline_att_224x224_A.json.checkpoints/epoch_141.pth\n"
     ]
    },
    {
     "name": "stderr",
     "output_type": "stream",
     "text": [
      "100%|███████████████████████████████████████████| 48/48 [00:09<00:00,  5.07it/s]\n",
      "100%|███████████████████████████████████████████| 10/10 [00:01<00:00,  5.55it/s]"
     ]
    },
    {
     "name": "stdout",
     "output_type": "stream",
     "text": [
      "141, 0.000914, 0.001125\n"
     ]
    },
    {
     "name": "stderr",
     "output_type": "stream",
     "text": [
      "\n",
      "100%|███████████████████████████████████████████| 48/48 [00:09<00:00,  4.82it/s]\n",
      "100%|███████████████████████████████████████████| 10/10 [00:01<00:00,  6.17it/s]"
     ]
    },
    {
     "name": "stdout",
     "output_type": "stream",
     "text": [
      "142, 0.000903, 0.001110\n"
     ]
    },
    {
     "name": "stderr",
     "output_type": "stream",
     "text": [
      "\n",
      "100%|███████████████████████████████████████████| 48/48 [00:09<00:00,  5.13it/s]\n",
      "100%|███████████████████████████████████████████| 10/10 [00:01<00:00,  5.33it/s]\n"
     ]
    },
    {
     "name": "stdout",
     "output_type": "stream",
     "text": [
      "143, 0.000912, 0.001016\n",
      "Saving checkpoint to ../tasks/human_pose/experiments/resnet18_baseline_att_224x224_A.json.checkpoints/epoch_144.pth\n"
     ]
    },
    {
     "name": "stderr",
     "output_type": "stream",
     "text": [
      "100%|███████████████████████████████████████████| 48/48 [00:09<00:00,  4.93it/s]\n",
      "100%|███████████████████████████████████████████| 10/10 [00:01<00:00,  5.18it/s]"
     ]
    },
    {
     "name": "stdout",
     "output_type": "stream",
     "text": [
      "144, 0.000922, 0.001038\n"
     ]
    },
    {
     "name": "stderr",
     "output_type": "stream",
     "text": [
      "\n",
      "100%|███████████████████████████████████████████| 48/48 [00:09<00:00,  5.08it/s]\n",
      "100%|███████████████████████████████████████████| 10/10 [00:02<00:00,  4.25it/s]"
     ]
    },
    {
     "name": "stdout",
     "output_type": "stream",
     "text": [
      "145, 0.000916, 0.001096\n"
     ]
    },
    {
     "name": "stderr",
     "output_type": "stream",
     "text": [
      "\n",
      "100%|███████████████████████████████████████████| 48/48 [00:09<00:00,  4.96it/s]\n",
      "100%|███████████████████████████████████████████| 10/10 [00:01<00:00,  5.21it/s]"
     ]
    },
    {
     "name": "stdout",
     "output_type": "stream",
     "text": [
      "146, 0.000910, 0.001020\n",
      "Saving checkpoint to ../tasks/human_pose/experiments/resnet18_baseline_att_224x224_A.json.checkpoints/epoch_147.pth\n"
     ]
    },
    {
     "name": "stderr",
     "output_type": "stream",
     "text": [
      "\n",
      "100%|███████████████████████████████████████████| 48/48 [00:09<00:00,  4.83it/s]\n",
      "100%|███████████████████████████████████████████| 10/10 [00:03<00:00,  2.99it/s]"
     ]
    },
    {
     "name": "stdout",
     "output_type": "stream",
     "text": [
      "147, 0.000911, 0.001087\n"
     ]
    },
    {
     "name": "stderr",
     "output_type": "stream",
     "text": [
      "\n",
      "100%|███████████████████████████████████████████| 48/48 [00:09<00:00,  4.85it/s]\n",
      "100%|███████████████████████████████████████████| 10/10 [00:01<00:00,  5.33it/s]"
     ]
    },
    {
     "name": "stdout",
     "output_type": "stream",
     "text": [
      "148, 0.000896, 0.001111\n"
     ]
    },
    {
     "name": "stderr",
     "output_type": "stream",
     "text": [
      "\n",
      "100%|███████████████████████████████████████████| 48/48 [00:10<00:00,  4.79it/s]\n",
      "100%|███████████████████████████████████████████| 10/10 [00:01<00:00,  5.41it/s]"
     ]
    },
    {
     "name": "stdout",
     "output_type": "stream",
     "text": [
      "149, 0.000903, 0.001079\n",
      "Adjusting learning rate to 0.000010\n",
      "Saving checkpoint to ../tasks/human_pose/experiments/resnet18_baseline_att_224x224_A.json.checkpoints/epoch_150.pth\n"
     ]
    },
    {
     "name": "stderr",
     "output_type": "stream",
     "text": [
      "\n",
      "100%|███████████████████████████████████████████| 48/48 [00:09<00:00,  5.22it/s]\n",
      "100%|███████████████████████████████████████████| 10/10 [00:01<00:00,  5.41it/s]"
     ]
    },
    {
     "name": "stdout",
     "output_type": "stream",
     "text": [
      "150, 0.000892, 0.001038\n"
     ]
    },
    {
     "name": "stderr",
     "output_type": "stream",
     "text": [
      "\n",
      "100%|███████████████████████████████████████████| 48/48 [00:09<00:00,  5.03it/s]\n",
      "100%|███████████████████████████████████████████| 10/10 [00:03<00:00,  2.99it/s]"
     ]
    },
    {
     "name": "stdout",
     "output_type": "stream",
     "text": [
      "151, 0.000891, 0.001075\n"
     ]
    },
    {
     "name": "stderr",
     "output_type": "stream",
     "text": [
      "\n",
      "100%|███████████████████████████████████████████| 48/48 [00:09<00:00,  5.02it/s]\n",
      "100%|███████████████████████████████████████████| 10/10 [00:01<00:00,  5.70it/s]"
     ]
    },
    {
     "name": "stdout",
     "output_type": "stream",
     "text": [
      "152, 0.000887, 0.001103\n",
      "Saving checkpoint to ../tasks/human_pose/experiments/resnet18_baseline_att_224x224_A.json.checkpoints/epoch_153.pth\n"
     ]
    },
    {
     "name": "stderr",
     "output_type": "stream",
     "text": [
      "\n",
      "100%|███████████████████████████████████████████| 48/48 [00:08<00:00,  5.34it/s]\n",
      "100%|███████████████████████████████████████████| 10/10 [00:01<00:00,  5.86it/s]"
     ]
    },
    {
     "name": "stdout",
     "output_type": "stream",
     "text": [
      "153, 0.000888, 0.001032\n"
     ]
    },
    {
     "name": "stderr",
     "output_type": "stream",
     "text": [
      "\n",
      "100%|███████████████████████████████████████████| 48/48 [00:10<00:00,  4.72it/s]\n",
      "100%|███████████████████████████████████████████| 10/10 [00:01<00:00,  6.34it/s]"
     ]
    },
    {
     "name": "stdout",
     "output_type": "stream",
     "text": [
      "154, 0.000883, 0.001068\n"
     ]
    },
    {
     "name": "stderr",
     "output_type": "stream",
     "text": [
      "\n",
      "100%|███████████████████████████████████████████| 48/48 [00:09<00:00,  4.95it/s]\n",
      "100%|███████████████████████████████████████████| 10/10 [00:01<00:00,  5.56it/s]\n"
     ]
    },
    {
     "name": "stdout",
     "output_type": "stream",
     "text": [
      "155, 0.000881, 0.001085\n",
      "Saving checkpoint to ../tasks/human_pose/experiments/resnet18_baseline_att_224x224_A.json.checkpoints/epoch_156.pth\n"
     ]
    },
    {
     "name": "stderr",
     "output_type": "stream",
     "text": [
      "100%|███████████████████████████████████████████| 48/48 [00:10<00:00,  4.76it/s]\n",
      "100%|███████████████████████████████████████████| 10/10 [00:02<00:00,  4.72it/s]"
     ]
    },
    {
     "name": "stdout",
     "output_type": "stream",
     "text": [
      "156, 0.000886, 0.001202\n"
     ]
    },
    {
     "name": "stderr",
     "output_type": "stream",
     "text": [
      "\n",
      "100%|███████████████████████████████████████████| 48/48 [00:10<00:00,  4.76it/s]\n",
      "100%|███████████████████████████████████████████| 10/10 [00:02<00:00,  4.93it/s]"
     ]
    },
    {
     "name": "stdout",
     "output_type": "stream",
     "text": [
      "157, 0.000878, 0.001118\n"
     ]
    },
    {
     "name": "stderr",
     "output_type": "stream",
     "text": [
      "\n",
      "100%|███████████████████████████████████████████| 48/48 [00:09<00:00,  5.31it/s]\n",
      "100%|███████████████████████████████████████████| 10/10 [00:01<00:00,  5.22it/s]\n"
     ]
    },
    {
     "name": "stdout",
     "output_type": "stream",
     "text": [
      "158, 0.000878, 0.001127\n",
      "Saving checkpoint to ../tasks/human_pose/experiments/resnet18_baseline_att_224x224_A.json.checkpoints/epoch_159.pth\n"
     ]
    },
    {
     "name": "stderr",
     "output_type": "stream",
     "text": [
      "100%|███████████████████████████████████████████| 48/48 [00:10<00:00,  4.79it/s]\n",
      "100%|███████████████████████████████████████████| 10/10 [00:01<00:00,  5.29it/s]"
     ]
    },
    {
     "name": "stdout",
     "output_type": "stream",
     "text": [
      "159, 0.000875, 0.000997\n"
     ]
    },
    {
     "name": "stderr",
     "output_type": "stream",
     "text": [
      "\n",
      "100%|███████████████████████████████████████████| 48/48 [00:09<00:00,  4.92it/s]\n",
      "100%|███████████████████████████████████████████| 10/10 [00:01<00:00,  5.71it/s]"
     ]
    },
    {
     "name": "stdout",
     "output_type": "stream",
     "text": [
      "160, 0.000872, 0.001032\n"
     ]
    },
    {
     "name": "stderr",
     "output_type": "stream",
     "text": [
      "\n",
      "100%|███████████████████████████████████████████| 48/48 [00:09<00:00,  5.02it/s]\n",
      "100%|███████████████████████████████████████████| 10/10 [00:02<00:00,  4.95it/s]"
     ]
    },
    {
     "name": "stdout",
     "output_type": "stream",
     "text": [
      "161, 0.000883, 0.001017\n",
      "Saving checkpoint to ../tasks/human_pose/experiments/resnet18_baseline_att_224x224_A.json.checkpoints/epoch_162.pth\n"
     ]
    },
    {
     "name": "stderr",
     "output_type": "stream",
     "text": [
      "\n",
      "100%|███████████████████████████████████████████| 48/48 [00:11<00:00,  4.36it/s]\n",
      "100%|███████████████████████████████████████████| 10/10 [00:01<00:00,  5.18it/s]"
     ]
    },
    {
     "name": "stdout",
     "output_type": "stream",
     "text": [
      "162, 0.000879, 0.001139\n"
     ]
    },
    {
     "name": "stderr",
     "output_type": "stream",
     "text": [
      "\n",
      "100%|███████████████████████████████████████████| 48/48 [00:09<00:00,  4.90it/s]\n",
      "100%|███████████████████████████████████████████| 10/10 [00:01<00:00,  5.51it/s]"
     ]
    },
    {
     "name": "stdout",
     "output_type": "stream",
     "text": [
      "163, 0.000888, 0.001076\n"
     ]
    },
    {
     "name": "stderr",
     "output_type": "stream",
     "text": [
      "\n",
      "100%|███████████████████████████████████████████| 48/48 [00:10<00:00,  4.49it/s]\n",
      "100%|███████████████████████████████████████████| 10/10 [00:01<00:00,  5.12it/s]"
     ]
    },
    {
     "name": "stdout",
     "output_type": "stream",
     "text": [
      "164, 0.000873, 0.001015\n",
      "Saving checkpoint to ../tasks/human_pose/experiments/resnet18_baseline_att_224x224_A.json.checkpoints/epoch_165.pth\n"
     ]
    },
    {
     "name": "stderr",
     "output_type": "stream",
     "text": [
      "\n",
      "100%|███████████████████████████████████████████| 48/48 [00:09<00:00,  5.00it/s]\n",
      "100%|███████████████████████████████████████████| 10/10 [00:01<00:00,  5.08it/s]"
     ]
    },
    {
     "name": "stdout",
     "output_type": "stream",
     "text": [
      "165, 0.000868, 0.001063\n"
     ]
    },
    {
     "name": "stderr",
     "output_type": "stream",
     "text": [
      "\n",
      "100%|███████████████████████████████████████████| 48/48 [00:09<00:00,  4.97it/s]\n",
      "100%|███████████████████████████████████████████| 10/10 [00:01<00:00,  5.16it/s]"
     ]
    },
    {
     "name": "stdout",
     "output_type": "stream",
     "text": [
      "166, 0.000880, 0.001028\n"
     ]
    },
    {
     "name": "stderr",
     "output_type": "stream",
     "text": [
      "\n",
      "100%|███████████████████████████████████████████| 48/48 [00:09<00:00,  5.04it/s]\n",
      "100%|███████████████████████████████████████████| 10/10 [00:02<00:00,  4.46it/s]"
     ]
    },
    {
     "name": "stdout",
     "output_type": "stream",
     "text": [
      "167, 0.000877, 0.001027\n",
      "Saving checkpoint to ../tasks/human_pose/experiments/resnet18_baseline_att_224x224_A.json.checkpoints/epoch_168.pth\n"
     ]
    },
    {
     "name": "stderr",
     "output_type": "stream",
     "text": [
      "\n",
      "100%|███████████████████████████████████████████| 48/48 [00:09<00:00,  4.99it/s]\n",
      "100%|███████████████████████████████████████████| 10/10 [00:01<00:00,  5.44it/s]"
     ]
    },
    {
     "name": "stdout",
     "output_type": "stream",
     "text": [
      "168, 0.000886, 0.001051\n"
     ]
    },
    {
     "name": "stderr",
     "output_type": "stream",
     "text": [
      "\n",
      "100%|███████████████████████████████████████████| 48/48 [00:09<00:00,  5.21it/s]\n",
      "100%|███████████████████████████████████████████| 10/10 [00:01<00:00,  5.88it/s]"
     ]
    },
    {
     "name": "stdout",
     "output_type": "stream",
     "text": [
      "169, 0.000874, 0.001033\n"
     ]
    },
    {
     "name": "stderr",
     "output_type": "stream",
     "text": [
      "\n",
      "100%|███████████████████████████████████████████| 48/48 [00:09<00:00,  4.98it/s]\n",
      "100%|███████████████████████████████████████████| 10/10 [00:01<00:00,  5.03it/s]\n"
     ]
    },
    {
     "name": "stdout",
     "output_type": "stream",
     "text": [
      "170, 0.000865, 0.001197\n",
      "Saving checkpoint to ../tasks/human_pose/experiments/resnet18_baseline_att_224x224_A.json.checkpoints/epoch_171.pth\n"
     ]
    },
    {
     "name": "stderr",
     "output_type": "stream",
     "text": [
      "100%|███████████████████████████████████████████| 48/48 [00:09<00:00,  5.21it/s]\n",
      "100%|███████████████████████████████████████████| 10/10 [00:01<00:00,  5.13it/s]"
     ]
    },
    {
     "name": "stdout",
     "output_type": "stream",
     "text": [
      "171, 0.000868, 0.001061\n"
     ]
    },
    {
     "name": "stderr",
     "output_type": "stream",
     "text": [
      "\n",
      "100%|███████████████████████████████████████████| 48/48 [00:09<00:00,  4.87it/s]\n",
      "100%|███████████████████████████████████████████| 10/10 [00:01<00:00,  5.85it/s]"
     ]
    },
    {
     "name": "stdout",
     "output_type": "stream",
     "text": [
      "172, 0.000867, 0.001008\n"
     ]
    },
    {
     "name": "stderr",
     "output_type": "stream",
     "text": [
      "\n",
      "100%|███████████████████████████████████████████| 48/48 [00:09<00:00,  4.80it/s]\n",
      "100%|███████████████████████████████████████████| 10/10 [00:01<00:00,  5.77it/s]"
     ]
    },
    {
     "name": "stdout",
     "output_type": "stream",
     "text": [
      "173, 0.000874, 0.001166\n",
      "Saving checkpoint to ../tasks/human_pose/experiments/resnet18_baseline_att_224x224_A.json.checkpoints/epoch_174.pth\n"
     ]
    },
    {
     "name": "stderr",
     "output_type": "stream",
     "text": [
      "\n",
      "100%|███████████████████████████████████████████| 48/48 [00:09<00:00,  5.15it/s]\n",
      "100%|███████████████████████████████████████████| 10/10 [00:01<00:00,  6.56it/s]"
     ]
    },
    {
     "name": "stdout",
     "output_type": "stream",
     "text": [
      "174, 0.000870, 0.001179\n"
     ]
    },
    {
     "name": "stderr",
     "output_type": "stream",
     "text": [
      "\n",
      "100%|███████████████████████████████████████████| 48/48 [00:09<00:00,  4.82it/s]\n",
      "100%|███████████████████████████████████████████| 10/10 [00:02<00:00,  4.50it/s]"
     ]
    },
    {
     "name": "stdout",
     "output_type": "stream",
     "text": [
      "175, 0.000873, 0.001070\n"
     ]
    },
    {
     "name": "stderr",
     "output_type": "stream",
     "text": [
      "\n",
      "100%|███████████████████████████████████████████| 48/48 [00:09<00:00,  5.12it/s]\n",
      "100%|███████████████████████████████████████████| 10/10 [00:01<00:00,  5.79it/s]"
     ]
    },
    {
     "name": "stdout",
     "output_type": "stream",
     "text": [
      "176, 0.000879, 0.001015\n",
      "Saving checkpoint to ../tasks/human_pose/experiments/resnet18_baseline_att_224x224_A.json.checkpoints/epoch_177.pth\n"
     ]
    },
    {
     "name": "stderr",
     "output_type": "stream",
     "text": [
      "\n",
      "100%|███████████████████████████████████████████| 48/48 [00:10<00:00,  4.45it/s]\n",
      "100%|███████████████████████████████████████████| 10/10 [00:01<00:00,  5.50it/s]"
     ]
    },
    {
     "name": "stdout",
     "output_type": "stream",
     "text": [
      "177, 0.000877, 0.001095\n"
     ]
    },
    {
     "name": "stderr",
     "output_type": "stream",
     "text": [
      "\n",
      "100%|███████████████████████████████████████████| 48/48 [00:09<00:00,  5.20it/s]\n",
      "100%|███████████████████████████████████████████| 10/10 [00:01<00:00,  5.16it/s]"
     ]
    },
    {
     "name": "stdout",
     "output_type": "stream",
     "text": [
      "178, 0.000868, 0.001243\n"
     ]
    },
    {
     "name": "stderr",
     "output_type": "stream",
     "text": [
      "\n",
      "100%|███████████████████████████████████████████| 48/48 [00:09<00:00,  4.81it/s]\n",
      "100%|███████████████████████████████████████████| 10/10 [00:01<00:00,  5.67it/s]\n"
     ]
    },
    {
     "name": "stdout",
     "output_type": "stream",
     "text": [
      "179, 0.000876, 0.001000\n",
      "Saving checkpoint to ../tasks/human_pose/experiments/resnet18_baseline_att_224x224_A.json.checkpoints/epoch_180.pth\n"
     ]
    },
    {
     "name": "stderr",
     "output_type": "stream",
     "text": [
      "100%|███████████████████████████████████████████| 48/48 [00:09<00:00,  5.29it/s]\n",
      "100%|███████████████████████████████████████████| 10/10 [00:01<00:00,  5.16it/s]"
     ]
    },
    {
     "name": "stdout",
     "output_type": "stream",
     "text": [
      "180, 0.000866, 0.001039\n"
     ]
    },
    {
     "name": "stderr",
     "output_type": "stream",
     "text": [
      "\n",
      "100%|███████████████████████████████████████████| 48/48 [00:09<00:00,  4.85it/s]\n",
      "100%|███████████████████████████████████████████| 10/10 [00:02<00:00,  4.94it/s]"
     ]
    },
    {
     "name": "stdout",
     "output_type": "stream",
     "text": [
      "181, 0.000888, 0.001007\n"
     ]
    },
    {
     "name": "stderr",
     "output_type": "stream",
     "text": [
      "\n",
      "100%|███████████████████████████████████████████| 48/48 [00:08<00:00,  5.45it/s]\n",
      "100%|███████████████████████████████████████████| 10/10 [00:03<00:00,  3.01it/s]"
     ]
    },
    {
     "name": "stdout",
     "output_type": "stream",
     "text": [
      "182, 0.000874, 0.001013\n",
      "Saving checkpoint to ../tasks/human_pose/experiments/resnet18_baseline_att_224x224_A.json.checkpoints/epoch_183.pth\n"
     ]
    },
    {
     "name": "stderr",
     "output_type": "stream",
     "text": [
      "\n",
      "100%|███████████████████████████████████████████| 48/48 [00:09<00:00,  4.95it/s]\n",
      "100%|███████████████████████████████████████████| 10/10 [00:01<00:00,  5.83it/s]"
     ]
    },
    {
     "name": "stdout",
     "output_type": "stream",
     "text": [
      "183, 0.000883, 0.001053\n"
     ]
    },
    {
     "name": "stderr",
     "output_type": "stream",
     "text": [
      "\n",
      "100%|███████████████████████████████████████████| 48/48 [00:10<00:00,  4.74it/s]\n",
      "100%|███████████████████████████████████████████| 10/10 [00:01<00:00,  5.14it/s]"
     ]
    },
    {
     "name": "stdout",
     "output_type": "stream",
     "text": [
      "184, 0.000871, 0.001025\n"
     ]
    },
    {
     "name": "stderr",
     "output_type": "stream",
     "text": [
      "\n",
      "100%|███████████████████████████████████████████| 48/48 [00:10<00:00,  4.72it/s]\n",
      "100%|███████████████████████████████████████████| 10/10 [00:01<00:00,  6.63it/s]\n"
     ]
    },
    {
     "name": "stdout",
     "output_type": "stream",
     "text": [
      "185, 0.000875, 0.001017\n",
      "Saving checkpoint to ../tasks/human_pose/experiments/resnet18_baseline_att_224x224_A.json.checkpoints/epoch_186.pth\n"
     ]
    },
    {
     "name": "stderr",
     "output_type": "stream",
     "text": [
      "100%|███████████████████████████████████████████| 48/48 [00:10<00:00,  4.78it/s]\n",
      "100%|███████████████████████████████████████████| 10/10 [00:01<00:00,  5.95it/s]"
     ]
    },
    {
     "name": "stdout",
     "output_type": "stream",
     "text": [
      "186, 0.000856, 0.001009\n"
     ]
    },
    {
     "name": "stderr",
     "output_type": "stream",
     "text": [
      "\n",
      "100%|███████████████████████████████████████████| 48/48 [00:09<00:00,  5.13it/s]\n",
      "100%|███████████████████████████████████████████| 10/10 [00:02<00:00,  4.28it/s]"
     ]
    },
    {
     "name": "stdout",
     "output_type": "stream",
     "text": [
      "187, 0.000873, 0.000998\n"
     ]
    },
    {
     "name": "stderr",
     "output_type": "stream",
     "text": [
      "\n",
      "100%|███████████████████████████████████████████| 48/48 [00:08<00:00,  5.44it/s]\n",
      "100%|███████████████████████████████████████████| 10/10 [00:01<00:00,  5.59it/s]\n"
     ]
    },
    {
     "name": "stdout",
     "output_type": "stream",
     "text": [
      "188, 0.000868, 0.001019\n",
      "Saving checkpoint to ../tasks/human_pose/experiments/resnet18_baseline_att_224x224_A.json.checkpoints/epoch_189.pth\n"
     ]
    },
    {
     "name": "stderr",
     "output_type": "stream",
     "text": [
      "100%|███████████████████████████████████████████| 48/48 [00:10<00:00,  4.57it/s]\n",
      "100%|███████████████████████████████████████████| 10/10 [00:01<00:00,  5.01it/s]"
     ]
    },
    {
     "name": "stdout",
     "output_type": "stream",
     "text": [
      "189, 0.000876, 0.001025\n"
     ]
    },
    {
     "name": "stderr",
     "output_type": "stream",
     "text": [
      "\n",
      "100%|███████████████████████████████████████████| 48/48 [00:09<00:00,  5.16it/s]\n",
      "100%|███████████████████████████████████████████| 10/10 [00:01<00:00,  5.68it/s]"
     ]
    },
    {
     "name": "stdout",
     "output_type": "stream",
     "text": [
      "190, 0.000868, 0.001092\n"
     ]
    },
    {
     "name": "stderr",
     "output_type": "stream",
     "text": [
      "\n",
      "100%|███████████████████████████████████████████| 48/48 [00:09<00:00,  5.01it/s]\n",
      "100%|███████████████████████████████████████████| 10/10 [00:03<00:00,  3.12it/s]"
     ]
    },
    {
     "name": "stdout",
     "output_type": "stream",
     "text": [
      "191, 0.000876, 0.001053\n",
      "Saving checkpoint to ../tasks/human_pose/experiments/resnet18_baseline_att_224x224_A.json.checkpoints/epoch_192.pth\n"
     ]
    },
    {
     "name": "stderr",
     "output_type": "stream",
     "text": [
      "\n",
      "100%|███████████████████████████████████████████| 48/48 [00:09<00:00,  4.99it/s]\n",
      "100%|███████████████████████████████████████████| 10/10 [00:01<00:00,  5.38it/s]"
     ]
    },
    {
     "name": "stdout",
     "output_type": "stream",
     "text": [
      "192, 0.000872, 0.001103\n"
     ]
    },
    {
     "name": "stderr",
     "output_type": "stream",
     "text": [
      "\n",
      "100%|███████████████████████████████████████████| 48/48 [00:09<00:00,  5.06it/s]\n",
      "100%|███████████████████████████████████████████| 10/10 [00:01<00:00,  5.30it/s]"
     ]
    },
    {
     "name": "stdout",
     "output_type": "stream",
     "text": [
      "193, 0.000862, 0.001062\n"
     ]
    },
    {
     "name": "stderr",
     "output_type": "stream",
     "text": [
      "\n",
      "100%|███████████████████████████████████████████| 48/48 [00:09<00:00,  5.13it/s]\n",
      "100%|███████████████████████████████████████████| 10/10 [00:02<00:00,  4.99it/s]"
     ]
    },
    {
     "name": "stdout",
     "output_type": "stream",
     "text": [
      "194, 0.000863, 0.001008\n",
      "Saving checkpoint to ../tasks/human_pose/experiments/resnet18_baseline_att_224x224_A.json.checkpoints/epoch_195.pth\n"
     ]
    },
    {
     "name": "stderr",
     "output_type": "stream",
     "text": [
      "\n",
      "100%|███████████████████████████████████████████| 48/48 [00:09<00:00,  4.96it/s]\n",
      "100%|███████████████████████████████████████████| 10/10 [00:02<00:00,  4.78it/s]"
     ]
    },
    {
     "name": "stdout",
     "output_type": "stream",
     "text": [
      "195, 0.000862, 0.001035\n"
     ]
    },
    {
     "name": "stderr",
     "output_type": "stream",
     "text": [
      "\n",
      "100%|███████████████████████████████████████████| 48/48 [00:09<00:00,  4.88it/s]\n",
      "100%|███████████████████████████████████████████| 10/10 [00:01<00:00,  5.94it/s]"
     ]
    },
    {
     "name": "stdout",
     "output_type": "stream",
     "text": [
      "196, 0.000869, 0.000997\n"
     ]
    },
    {
     "name": "stderr",
     "output_type": "stream",
     "text": [
      "\n",
      "100%|███████████████████████████████████████████| 48/48 [00:09<00:00,  4.93it/s]\n",
      "100%|███████████████████████████████████████████| 10/10 [00:01<00:00,  5.48it/s]"
     ]
    },
    {
     "name": "stdout",
     "output_type": "stream",
     "text": [
      "197, 0.000859, 0.001001\n",
      "Saving checkpoint to ../tasks/human_pose/experiments/resnet18_baseline_att_224x224_A.json.checkpoints/epoch_198.pth\n"
     ]
    },
    {
     "name": "stderr",
     "output_type": "stream",
     "text": [
      "\n",
      "100%|███████████████████████████████████████████| 48/48 [00:09<00:00,  4.98it/s]\n",
      "100%|███████████████████████████████████████████| 10/10 [00:01<00:00,  5.15it/s]"
     ]
    },
    {
     "name": "stdout",
     "output_type": "stream",
     "text": [
      "198, 0.000873, 0.001006\n"
     ]
    },
    {
     "name": "stderr",
     "output_type": "stream",
     "text": [
      "\n",
      "100%|███████████████████████████████████████████| 48/48 [00:09<00:00,  4.85it/s]\n",
      "100%|███████████████████████████████████████████| 10/10 [00:03<00:00,  3.25it/s]"
     ]
    },
    {
     "name": "stdout",
     "output_type": "stream",
     "text": [
      "199, 0.000864, 0.001020\n"
     ]
    },
    {
     "name": "stderr",
     "output_type": "stream",
     "text": [
      "\n",
      "100%|███████████████████████████████████████████| 48/48 [00:09<00:00,  5.09it/s]\n",
      "100%|███████████████████████████████████████████| 10/10 [00:02<00:00,  4.11it/s]"
     ]
    },
    {
     "name": "stdout",
     "output_type": "stream",
     "text": [
      "200, 0.000859, 0.001015\n",
      "Saving checkpoint to ../tasks/human_pose/experiments/resnet18_baseline_att_224x224_A.json.checkpoints/epoch_201.pth\n"
     ]
    },
    {
     "name": "stderr",
     "output_type": "stream",
     "text": [
      "\n",
      "100%|███████████████████████████████████████████| 48/48 [00:09<00:00,  4.92it/s]\n",
      "100%|███████████████████████████████████████████| 10/10 [00:01<00:00,  5.76it/s]"
     ]
    },
    {
     "name": "stdout",
     "output_type": "stream",
     "text": [
      "201, 0.000856, 0.001010\n"
     ]
    },
    {
     "name": "stderr",
     "output_type": "stream",
     "text": [
      "\n",
      "100%|███████████████████████████████████████████| 48/48 [00:10<00:00,  4.74it/s]\n",
      "100%|███████████████████████████████████████████| 10/10 [00:01<00:00,  5.41it/s]"
     ]
    },
    {
     "name": "stdout",
     "output_type": "stream",
     "text": [
      "202, 0.000871, 0.001031\n"
     ]
    },
    {
     "name": "stderr",
     "output_type": "stream",
     "text": [
      "\n",
      "100%|███████████████████████████████████████████| 48/48 [00:09<00:00,  5.16it/s]\n",
      "100%|███████████████████████████████████████████| 10/10 [00:02<00:00,  3.72it/s]"
     ]
    },
    {
     "name": "stdout",
     "output_type": "stream",
     "text": [
      "203, 0.000861, 0.001047\n",
      "Saving checkpoint to ../tasks/human_pose/experiments/resnet18_baseline_att_224x224_A.json.checkpoints/epoch_204.pth\n"
     ]
    },
    {
     "name": "stderr",
     "output_type": "stream",
     "text": [
      "\n",
      "100%|███████████████████████████████████████████| 48/48 [00:09<00:00,  5.01it/s]\n",
      "100%|███████████████████████████████████████████| 10/10 [00:01<00:00,  5.13it/s]"
     ]
    },
    {
     "name": "stdout",
     "output_type": "stream",
     "text": [
      "204, 0.000865, 0.001054\n"
     ]
    },
    {
     "name": "stderr",
     "output_type": "stream",
     "text": [
      "\n",
      "100%|███████████████████████████████████████████| 48/48 [00:09<00:00,  5.08it/s]\n",
      "100%|███████████████████████████████████████████| 10/10 [00:01<00:00,  5.30it/s]"
     ]
    },
    {
     "name": "stdout",
     "output_type": "stream",
     "text": [
      "205, 0.000861, 0.001050\n"
     ]
    },
    {
     "name": "stderr",
     "output_type": "stream",
     "text": [
      "\n",
      "100%|███████████████████████████████████████████| 48/48 [00:09<00:00,  5.03it/s]\n",
      "100%|███████████████████████████████████████████| 10/10 [00:01<00:00,  5.60it/s]\n"
     ]
    },
    {
     "name": "stdout",
     "output_type": "stream",
     "text": [
      "206, 0.000856, 0.001010\n",
      "Saving checkpoint to ../tasks/human_pose/experiments/resnet18_baseline_att_224x224_A.json.checkpoints/epoch_207.pth\n"
     ]
    },
    {
     "name": "stderr",
     "output_type": "stream",
     "text": [
      "100%|███████████████████████████████████████████| 48/48 [00:09<00:00,  5.01it/s]\n",
      "100%|███████████████████████████████████████████| 10/10 [00:01<00:00,  5.91it/s]"
     ]
    },
    {
     "name": "stdout",
     "output_type": "stream",
     "text": [
      "207, 0.000865, 0.001106\n"
     ]
    },
    {
     "name": "stderr",
     "output_type": "stream",
     "text": [
      "\n",
      "100%|███████████████████████████████████████████| 48/48 [00:09<00:00,  5.18it/s]\n",
      "100%|███████████████████████████████████████████| 10/10 [00:01<00:00,  5.57it/s]"
     ]
    },
    {
     "name": "stdout",
     "output_type": "stream",
     "text": [
      "208, 0.000856, 0.001140\n"
     ]
    },
    {
     "name": "stderr",
     "output_type": "stream",
     "text": [
      "\n",
      "100%|███████████████████████████████████████████| 48/48 [00:09<00:00,  5.00it/s]\n",
      "100%|███████████████████████████████████████████| 10/10 [00:01<00:00,  5.67it/s]\n"
     ]
    },
    {
     "name": "stdout",
     "output_type": "stream",
     "text": [
      "209, 0.000862, 0.001017\n",
      "Saving checkpoint to ../tasks/human_pose/experiments/resnet18_baseline_att_224x224_A.json.checkpoints/epoch_210.pth\n"
     ]
    },
    {
     "name": "stderr",
     "output_type": "stream",
     "text": [
      "100%|███████████████████████████████████████████| 48/48 [00:08<00:00,  5.52it/s]\n",
      "100%|███████████████████████████████████████████| 10/10 [00:01<00:00,  5.75it/s]"
     ]
    },
    {
     "name": "stdout",
     "output_type": "stream",
     "text": [
      "210, 0.000866, 0.001021\n"
     ]
    },
    {
     "name": "stderr",
     "output_type": "stream",
     "text": [
      "\n",
      "100%|███████████████████████████████████████████| 48/48 [00:08<00:00,  5.36it/s]\n",
      "100%|███████████████████████████████████████████| 10/10 [00:03<00:00,  3.19it/s]"
     ]
    },
    {
     "name": "stdout",
     "output_type": "stream",
     "text": [
      "211, 0.000865, 0.001049\n"
     ]
    },
    {
     "name": "stderr",
     "output_type": "stream",
     "text": [
      "\n",
      "100%|███████████████████████████████████████████| 48/48 [00:09<00:00,  4.93it/s]\n",
      "100%|███████████████████████████████████████████| 10/10 [00:01<00:00,  5.58it/s]"
     ]
    },
    {
     "name": "stdout",
     "output_type": "stream",
     "text": [
      "212, 0.000854, 0.001010\n",
      "Saving checkpoint to ../tasks/human_pose/experiments/resnet18_baseline_att_224x224_A.json.checkpoints/epoch_213.pth\n"
     ]
    },
    {
     "name": "stderr",
     "output_type": "stream",
     "text": [
      "\n",
      "100%|███████████████████████████████████████████| 48/48 [00:09<00:00,  5.06it/s]\n",
      "100%|███████████████████████████████████████████| 10/10 [00:01<00:00,  5.63it/s]"
     ]
    },
    {
     "name": "stdout",
     "output_type": "stream",
     "text": [
      "213, 0.000858, 0.001017\n"
     ]
    },
    {
     "name": "stderr",
     "output_type": "stream",
     "text": [
      "\n",
      "100%|███████████████████████████████████████████| 48/48 [00:10<00:00,  4.78it/s]\n",
      "100%|███████████████████████████████████████████| 10/10 [00:01<00:00,  5.28it/s]"
     ]
    },
    {
     "name": "stdout",
     "output_type": "stream",
     "text": [
      "214, 0.000855, 0.001077\n"
     ]
    },
    {
     "name": "stderr",
     "output_type": "stream",
     "text": [
      "\n",
      "100%|███████████████████████████████████████████| 48/48 [00:09<00:00,  4.98it/s]\n",
      "100%|███████████████████████████████████████████| 10/10 [00:01<00:00,  5.06it/s]\n"
     ]
    },
    {
     "name": "stdout",
     "output_type": "stream",
     "text": [
      "215, 0.000863, 0.001056\n",
      "Saving checkpoint to ../tasks/human_pose/experiments/resnet18_baseline_att_224x224_A.json.checkpoints/epoch_216.pth\n"
     ]
    },
    {
     "name": "stderr",
     "output_type": "stream",
     "text": [
      "100%|███████████████████████████████████████████| 48/48 [00:08<00:00,  5.47it/s]\n",
      "100%|███████████████████████████████████████████| 10/10 [00:01<00:00,  5.61it/s]"
     ]
    },
    {
     "name": "stdout",
     "output_type": "stream",
     "text": [
      "216, 0.000864, 0.001034\n"
     ]
    },
    {
     "name": "stderr",
     "output_type": "stream",
     "text": [
      "\n",
      "100%|███████████████████████████████████████████| 48/48 [00:09<00:00,  5.03it/s]\n",
      "100%|███████████████████████████████████████████| 10/10 [00:01<00:00,  6.01it/s]"
     ]
    },
    {
     "name": "stdout",
     "output_type": "stream",
     "text": [
      "217, 0.000860, 0.001064\n"
     ]
    },
    {
     "name": "stderr",
     "output_type": "stream",
     "text": [
      "\n",
      "100%|███████████████████████████████████████████| 48/48 [00:09<00:00,  5.03it/s]\n",
      "100%|███████████████████████████████████████████| 10/10 [00:01<00:00,  6.71it/s]"
     ]
    },
    {
     "name": "stdout",
     "output_type": "stream",
     "text": [
      "218, 0.000859, 0.001047\n",
      "Saving checkpoint to ../tasks/human_pose/experiments/resnet18_baseline_att_224x224_A.json.checkpoints/epoch_219.pth\n"
     ]
    },
    {
     "name": "stderr",
     "output_type": "stream",
     "text": [
      "\n",
      "100%|███████████████████████████████████████████| 48/48 [00:10<00:00,  4.50it/s]\n",
      "100%|███████████████████████████████████████████| 10/10 [00:03<00:00,  3.14it/s]"
     ]
    },
    {
     "name": "stdout",
     "output_type": "stream",
     "text": [
      "219, 0.000858, 0.001042\n"
     ]
    },
    {
     "name": "stderr",
     "output_type": "stream",
     "text": [
      "\n",
      "100%|███████████████████████████████████████████| 48/48 [00:09<00:00,  4.94it/s]\n",
      "100%|███████████████████████████████████████████| 10/10 [00:02<00:00,  4.83it/s]"
     ]
    },
    {
     "name": "stdout",
     "output_type": "stream",
     "text": [
      "220, 0.000856, 0.001045\n"
     ]
    },
    {
     "name": "stderr",
     "output_type": "stream",
     "text": [
      "\n",
      "100%|███████████████████████████████████████████| 48/48 [00:09<00:00,  4.90it/s]\n",
      "100%|███████████████████████████████████████████| 10/10 [00:01<00:00,  5.78it/s]"
     ]
    },
    {
     "name": "stdout",
     "output_type": "stream",
     "text": [
      "221, 0.000845, 0.001080\n",
      "Saving checkpoint to ../tasks/human_pose/experiments/resnet18_baseline_att_224x224_A.json.checkpoints/epoch_222.pth\n"
     ]
    },
    {
     "name": "stderr",
     "output_type": "stream",
     "text": [
      "\n",
      "100%|███████████████████████████████████████████| 48/48 [00:09<00:00,  4.80it/s]\n",
      "100%|███████████████████████████████████████████| 10/10 [00:01<00:00,  5.75it/s]"
     ]
    },
    {
     "name": "stdout",
     "output_type": "stream",
     "text": [
      "222, 0.000852, 0.001090\n"
     ]
    },
    {
     "name": "stderr",
     "output_type": "stream",
     "text": [
      "\n",
      "100%|███████████████████████████████████████████| 48/48 [00:09<00:00,  5.15it/s]\n",
      "100%|███████████████████████████████████████████| 10/10 [00:01<00:00,  5.11it/s]"
     ]
    },
    {
     "name": "stdout",
     "output_type": "stream",
     "text": [
      "223, 0.000847, 0.001055\n"
     ]
    },
    {
     "name": "stderr",
     "output_type": "stream",
     "text": [
      "\n",
      "100%|███████████████████████████████████████████| 48/48 [00:09<00:00,  4.84it/s]\n",
      "100%|███████████████████████████████████████████| 10/10 [00:01<00:00,  5.30it/s]\n"
     ]
    },
    {
     "name": "stdout",
     "output_type": "stream",
     "text": [
      "224, 0.000852, 0.000999\n",
      "Saving checkpoint to ../tasks/human_pose/experiments/resnet18_baseline_att_224x224_A.json.checkpoints/epoch_225.pth\n"
     ]
    },
    {
     "name": "stderr",
     "output_type": "stream",
     "text": [
      "100%|███████████████████████████████████████████| 48/48 [00:09<00:00,  4.87it/s]\n",
      "100%|███████████████████████████████████████████| 10/10 [00:01<00:00,  6.40it/s]"
     ]
    },
    {
     "name": "stdout",
     "output_type": "stream",
     "text": [
      "225, 0.000858, 0.001053\n"
     ]
    },
    {
     "name": "stderr",
     "output_type": "stream",
     "text": [
      "\n",
      "100%|███████████████████████████████████████████| 48/48 [00:09<00:00,  5.28it/s]\n",
      "100%|███████████████████████████████████████████| 10/10 [00:01<00:00,  5.46it/s]"
     ]
    },
    {
     "name": "stdout",
     "output_type": "stream",
     "text": [
      "226, 0.000853, 0.001046\n"
     ]
    },
    {
     "name": "stderr",
     "output_type": "stream",
     "text": [
      "\n",
      "100%|███████████████████████████████████████████| 48/48 [00:09<00:00,  5.19it/s]\n",
      "100%|███████████████████████████████████████████| 10/10 [00:01<00:00,  5.63it/s]\n"
     ]
    },
    {
     "name": "stdout",
     "output_type": "stream",
     "text": [
      "227, 0.000854, 0.001359\n",
      "Saving checkpoint to ../tasks/human_pose/experiments/resnet18_baseline_att_224x224_A.json.checkpoints/epoch_228.pth\n"
     ]
    },
    {
     "name": "stderr",
     "output_type": "stream",
     "text": [
      "100%|███████████████████████████████████████████| 48/48 [00:08<00:00,  5.35it/s]\n",
      "100%|███████████████████████████████████████████| 10/10 [00:01<00:00,  5.01it/s]"
     ]
    },
    {
     "name": "stdout",
     "output_type": "stream",
     "text": [
      "228, 0.000849, 0.001031\n"
     ]
    },
    {
     "name": "stderr",
     "output_type": "stream",
     "text": [
      "\n",
      "100%|███████████████████████████████████████████| 48/48 [00:09<00:00,  5.14it/s]\n",
      "100%|███████████████████████████████████████████| 10/10 [00:01<00:00,  5.66it/s]"
     ]
    },
    {
     "name": "stdout",
     "output_type": "stream",
     "text": [
      "229, 0.000853, 0.001018\n"
     ]
    },
    {
     "name": "stderr",
     "output_type": "stream",
     "text": [
      "\n",
      "100%|███████████████████████████████████████████| 48/48 [00:09<00:00,  4.83it/s]\n",
      "100%|███████████████████████████████████████████| 10/10 [00:03<00:00,  2.85it/s]"
     ]
    },
    {
     "name": "stdout",
     "output_type": "stream",
     "text": [
      "230, 0.000843, 0.001037\n",
      "Saving checkpoint to ../tasks/human_pose/experiments/resnet18_baseline_att_224x224_A.json.checkpoints/epoch_231.pth\n"
     ]
    },
    {
     "name": "stderr",
     "output_type": "stream",
     "text": [
      "\n",
      "100%|███████████████████████████████████████████| 48/48 [00:09<00:00,  5.03it/s]\n",
      "100%|███████████████████████████████████████████| 10/10 [00:01<00:00,  5.15it/s]"
     ]
    },
    {
     "name": "stdout",
     "output_type": "stream",
     "text": [
      "231, 0.000846, 0.001084\n"
     ]
    },
    {
     "name": "stderr",
     "output_type": "stream",
     "text": [
      "\n",
      "100%|███████████████████████████████████████████| 48/48 [00:09<00:00,  5.14it/s]\n",
      "100%|███████████████████████████████████████████| 10/10 [00:01<00:00,  5.57it/s]"
     ]
    },
    {
     "name": "stdout",
     "output_type": "stream",
     "text": [
      "232, 0.000849, 0.001003\n"
     ]
    },
    {
     "name": "stderr",
     "output_type": "stream",
     "text": [
      "\n",
      "100%|███████████████████████████████████████████| 48/48 [00:09<00:00,  4.94it/s]\n",
      "100%|███████████████████████████████████████████| 10/10 [00:01<00:00,  5.35it/s]\n"
     ]
    },
    {
     "name": "stdout",
     "output_type": "stream",
     "text": [
      "233, 0.000854, 0.000976\n",
      "Saving checkpoint to ../tasks/human_pose/experiments/resnet18_baseline_att_224x224_A.json.checkpoints/epoch_234.pth\n"
     ]
    },
    {
     "name": "stderr",
     "output_type": "stream",
     "text": [
      "100%|███████████████████████████████████████████| 48/48 [00:09<00:00,  4.83it/s]\n",
      "100%|███████████████████████████████████████████| 10/10 [00:01<00:00,  5.37it/s]"
     ]
    },
    {
     "name": "stdout",
     "output_type": "stream",
     "text": [
      "234, 0.000854, 0.001035\n"
     ]
    },
    {
     "name": "stderr",
     "output_type": "stream",
     "text": [
      "\n",
      "100%|███████████████████████████████████████████| 48/48 [00:08<00:00,  5.37it/s]\n",
      "100%|███████████████████████████████████████████| 10/10 [00:01<00:00,  5.23it/s]"
     ]
    },
    {
     "name": "stdout",
     "output_type": "stream",
     "text": [
      "235, 0.000860, 0.001126\n"
     ]
    },
    {
     "name": "stderr",
     "output_type": "stream",
     "text": [
      "\n",
      "100%|███████████████████████████████████████████| 48/48 [00:09<00:00,  4.96it/s]\n",
      "100%|███████████████████████████████████████████| 10/10 [00:01<00:00,  5.02it/s]\n"
     ]
    },
    {
     "name": "stdout",
     "output_type": "stream",
     "text": [
      "236, 0.000855, 0.001044\n",
      "Saving checkpoint to ../tasks/human_pose/experiments/resnet18_baseline_att_224x224_A.json.checkpoints/epoch_237.pth\n"
     ]
    },
    {
     "name": "stderr",
     "output_type": "stream",
     "text": [
      "100%|███████████████████████████████████████████| 48/48 [00:10<00:00,  4.70it/s]\n",
      "100%|███████████████████████████████████████████| 10/10 [00:02<00:00,  4.71it/s]"
     ]
    },
    {
     "name": "stdout",
     "output_type": "stream",
     "text": [
      "237, 0.000847, 0.001174\n"
     ]
    },
    {
     "name": "stderr",
     "output_type": "stream",
     "text": [
      "\n",
      "100%|███████████████████████████████████████████| 48/48 [00:09<00:00,  5.10it/s]\n",
      "100%|███████████████████████████████████████████| 10/10 [00:01<00:00,  5.16it/s]"
     ]
    },
    {
     "name": "stdout",
     "output_type": "stream",
     "text": [
      "238, 0.000842, 0.001054\n"
     ]
    },
    {
     "name": "stderr",
     "output_type": "stream",
     "text": [
      "\n",
      "100%|███████████████████████████████████████████| 48/48 [00:09<00:00,  4.81it/s]\n",
      "100%|███████████████████████████████████████████| 10/10 [00:01<00:00,  5.63it/s]\n"
     ]
    },
    {
     "name": "stdout",
     "output_type": "stream",
     "text": [
      "239, 0.000845, 0.001080\n",
      "Saving checkpoint to ../tasks/human_pose/experiments/resnet18_baseline_att_224x224_A.json.checkpoints/epoch_240.pth\n"
     ]
    },
    {
     "name": "stderr",
     "output_type": "stream",
     "text": [
      "100%|███████████████████████████████████████████| 48/48 [00:09<00:00,  4.99it/s]\n",
      "100%|███████████████████████████████████████████| 10/10 [00:01<00:00,  5.14it/s]"
     ]
    },
    {
     "name": "stdout",
     "output_type": "stream",
     "text": [
      "240, 0.000841, 0.001035\n"
     ]
    },
    {
     "name": "stderr",
     "output_type": "stream",
     "text": [
      "\n",
      "100%|███████████████████████████████████████████| 48/48 [00:09<00:00,  4.85it/s]\n",
      "100%|███████████████████████████████████████████| 10/10 [00:01<00:00,  5.79it/s]"
     ]
    },
    {
     "name": "stdout",
     "output_type": "stream",
     "text": [
      "241, 0.000836, 0.001036\n"
     ]
    },
    {
     "name": "stderr",
     "output_type": "stream",
     "text": [
      "\n",
      "100%|███████████████████████████████████████████| 48/48 [00:09<00:00,  5.28it/s]\n",
      "100%|███████████████████████████████████████████| 10/10 [00:02<00:00,  4.70it/s]"
     ]
    },
    {
     "name": "stdout",
     "output_type": "stream",
     "text": [
      "242, 0.000855, 0.001035\n",
      "Saving checkpoint to ../tasks/human_pose/experiments/resnet18_baseline_att_224x224_A.json.checkpoints/epoch_243.pth\n"
     ]
    },
    {
     "name": "stderr",
     "output_type": "stream",
     "text": [
      "\n",
      "100%|███████████████████████████████████████████| 48/48 [00:09<00:00,  5.13it/s]\n",
      "100%|███████████████████████████████████████████| 10/10 [00:01<00:00,  5.61it/s]"
     ]
    },
    {
     "name": "stdout",
     "output_type": "stream",
     "text": [
      "243, 0.000853, 0.001159\n"
     ]
    },
    {
     "name": "stderr",
     "output_type": "stream",
     "text": [
      "\n",
      "100%|███████████████████████████████████████████| 48/48 [00:09<00:00,  4.94it/s]\n",
      "100%|███████████████████████████████████████████| 10/10 [00:01<00:00,  5.22it/s]"
     ]
    },
    {
     "name": "stdout",
     "output_type": "stream",
     "text": [
      "244, 0.000856, 0.001098\n"
     ]
    },
    {
     "name": "stderr",
     "output_type": "stream",
     "text": [
      "\n",
      "100%|███████████████████████████████████████████| 48/48 [00:09<00:00,  4.99it/s]\n",
      "100%|███████████████████████████████████████████| 10/10 [00:03<00:00,  3.11it/s]"
     ]
    },
    {
     "name": "stdout",
     "output_type": "stream",
     "text": [
      "245, 0.000852, 0.001080\n",
      "Saving checkpoint to ../tasks/human_pose/experiments/resnet18_baseline_att_224x224_A.json.checkpoints/epoch_246.pth\n"
     ]
    },
    {
     "name": "stderr",
     "output_type": "stream",
     "text": [
      "\n",
      "100%|███████████████████████████████████████████| 48/48 [00:09<00:00,  5.00it/s]\n",
      "100%|███████████████████████████████████████████| 10/10 [00:01<00:00,  5.63it/s]"
     ]
    },
    {
     "name": "stdout",
     "output_type": "stream",
     "text": [
      "246, 0.000840, 0.001393\n"
     ]
    },
    {
     "name": "stderr",
     "output_type": "stream",
     "text": [
      "\n",
      "100%|███████████████████████████████████████████| 48/48 [00:09<00:00,  5.10it/s]\n",
      "100%|███████████████████████████████████████████| 10/10 [00:01<00:00,  5.62it/s]"
     ]
    },
    {
     "name": "stdout",
     "output_type": "stream",
     "text": [
      "247, 0.000855, 0.001019\n"
     ]
    },
    {
     "name": "stderr",
     "output_type": "stream",
     "text": [
      "\n",
      "100%|███████████████████████████████████████████| 48/48 [00:09<00:00,  4.98it/s]\n",
      "100%|███████████████████████████████████████████| 10/10 [00:01<00:00,  5.42it/s]\n"
     ]
    },
    {
     "name": "stdout",
     "output_type": "stream",
     "text": [
      "248, 0.000848, 0.001269\n",
      "Saving checkpoint to ../tasks/human_pose/experiments/resnet18_baseline_att_224x224_A.json.checkpoints/epoch_249.pth\n"
     ]
    },
    {
     "name": "stderr",
     "output_type": "stream",
     "text": [
      "100%|███████████████████████████████████████████| 48/48 [00:09<00:00,  4.99it/s]\n",
      "100%|███████████████████████████████████████████| 10/10 [00:02<00:00,  4.62it/s]"
     ]
    },
    {
     "name": "stdout",
     "output_type": "stream",
     "text": [
      "249, 0.000848, 0.001117\n"
     ]
    },
    {
     "name": "stderr",
     "output_type": "stream",
     "text": [
      "\n"
     ]
    }
   ],
   "source": [
    "OPTIMIZERS = {\n",
    "    'SGD': torch.optim.SGD,\n",
    "    'Adam': torch.optim.Adam\n",
    "}\n",
    "\n",
    "EPS = 1e-6\n",
    "\n",
    "def set_lr(optimizer, lr):\n",
    "    for p in optimizer.param_groups:\n",
    "        p['lr'] = lr\n",
    "        \n",
    "        \n",
    "def save_checkpoint(model, directory, epoch):\n",
    "    if not os.path.exists(directory):\n",
    "        os.mkdir(directory)\n",
    "    filename = os.path.join(directory, 'epoch_%d.pth' % epoch)\n",
    "    print('Saving checkpoint to %s' % filename)\n",
    "    torch.save(model.state_dict(), filename)\n",
    "\n",
    "    \n",
    "def write_log_entry(logfile, epoch, train_loss, test_loss):\n",
    "    with open(logfile, 'a+') as f:\n",
    "        logline = '%d, %f, %f' % (epoch, train_loss, test_loss)\n",
    "        print(logline)\n",
    "        f.write(logline + '\\n')\n",
    "        \n",
    "device = torch.device('cuda')\n",
    "\n",
    "if __name__ == '__main__':\n",
    "    \n",
    "    # parser = argparse.ArgumentParser()\n",
    "    # parser.add_argument('config')\n",
    "    # args = parser.parse_args()\n",
    "    \n",
    "    # print('Loading config %s' % args.config)\n",
    "    argsconfig='../tasks/human_pose/experiments/resnet18_baseline_att_224x224_A.json'\n",
    "    with open(argsconfig, 'r') as f:\n",
    "        config = json.load(f)\n",
    "        config['model']['kwargs']['cmap_channels']=25\n",
    "        config['model']['kwargs']['paf_channels']=62\n",
    "        config['test_dataset']['annotations_file']='Val_Data_updated.json'\n",
    "        config['test_dataset']['category_name']='forklift-person'\n",
    "        config['test_dataset']['images_dir']='Val_Data'\n",
    "        config['train_dataset']['annotations_file']='Train_Data_updated.json'\n",
    "        config['train_dataset']['category_name']='forklift-person'\n",
    "        config['train_dataset']['images_dir']='Train_Data'\n",
    "        config['epochs']=250\n",
    "\n",
    "        \n",
    "    logfile_path = argsconfig + '.log'\n",
    "    \n",
    "    checkpoint_dir = argsconfig + '.checkpoints'\n",
    "    if not os.path.exists(checkpoint_dir):\n",
    "        print('Creating checkpoint directory % s' % checkpoint_dir)\n",
    "        os.mkdir(checkpoint_dir)\n",
    "    \n",
    "        \n",
    "    # LOAD DATASETS\n",
    "    \n",
    "    train_dataset_kwargs = config[\"train_dataset\"]\n",
    "    train_dataset_kwargs['transforms'] = torchvision.transforms.Compose([\n",
    "            torchvision.transforms.ColorJitter(**config['color_jitter']),\n",
    "            torchvision.transforms.ToTensor(),\n",
    "            torchvision.transforms.Normalize([0.485, 0.456, 0.406], [0.229, 0.224, 0.225])\n",
    "    ])\n",
    "    \n",
    "    test_dataset_kwargs = config[\"test_dataset\"]\n",
    "    test_dataset_kwargs['transforms'] = torchvision.transforms.Compose([\n",
    "            torchvision.transforms.ToTensor(),\n",
    "            torchvision.transforms.Normalize([0.485, 0.456, 0.406], [0.229, 0.224, 0.225])\n",
    "    ])\n",
    "    \n",
    "    if 'evaluation' in config:\n",
    "        evaluator = CocoHumanPoseEval(**config['evaluation'])\n",
    "    \n",
    "    train_dataset = CocoDataset(**train_dataset_kwargs)\n",
    "    test_dataset = CocoDataset(**test_dataset_kwargs)\n",
    "    \n",
    "    part_type_counts = test_dataset.get_part_type_counts().float().cuda()\n",
    "    part_weight = 1.0 / part_type_counts\n",
    "    part_weight = part_weight / torch.sum(part_weight)\n",
    "    paf_type_counts = test_dataset.get_paf_type_counts().float().cuda()\n",
    "    paf_weight = 1.0 / paf_type_counts\n",
    "    paf_weight = paf_weight / torch.sum(paf_weight)\n",
    "    paf_weight /= 2.0\n",
    "    \n",
    "    train_loader = torch.utils.data.DataLoader(\n",
    "        train_dataset,\n",
    "        **config[\"train_loader\"]\n",
    "    )\n",
    "    \n",
    "    test_loader = torch.utils.data.DataLoader(\n",
    "        test_dataset,\n",
    "        **config[\"test_loader\"]\n",
    "    )\n",
    "    \n",
    "    model = MODELS[config['model']['name']](**config['model']['kwargs']).to(device)\n",
    "    \n",
    "    if \"initial_state_dict\" in config['model']:\n",
    "        print('Loading initial weights from %s' % config['model']['initial_state_dict'])\n",
    "        model.load_state_dict(torch.load(config['model']['initial_state_dict']))\n",
    "    \n",
    "    optimizer = OPTIMIZERS[config['optimizer']['name']](model.parameters(), **config['optimizer']['kwargs'])\n",
    "    model, optimizer = amp.initialize(model, optimizer, opt_level=\"O1\")\n",
    "    \n",
    "    if 'mask_unlabeled' in config and config['mask_unlabeled']:\n",
    "        print('Masking unlabeled annotations')\n",
    "        mask_unlabeled = True\n",
    "    else:\n",
    "        mask_unlabeled = False\n",
    "        \n",
    "    caploss=[]\n",
    "    shutil.rmtree('Training_Progress')\n",
    "    os.mkdir('Training_Progress')\n",
    "    for epoch in range(config[\"epochs\"]):\n",
    "        \n",
    "        if str(epoch) in config['stdev_schedule']:\n",
    "            stdev = config['stdev_schedule'][str(epoch)]\n",
    "            print('Adjusting stdev to %f' % stdev)\n",
    "            train_dataset.stdev = stdev\n",
    "            test_dataset.stdev = stdev\n",
    "            \n",
    "        if str(epoch) in config['lr_schedule']:\n",
    "            new_lr = config['lr_schedule'][str(epoch)]\n",
    "            print('Adjusting learning rate to %f' % new_lr)\n",
    "            set_lr(optimizer, new_lr)\n",
    "        \n",
    "        if epoch % config['checkpoints']['interval'] == 0:\n",
    "            save_checkpoint(model, checkpoint_dir, epoch)\n",
    "        \n",
    "           \n",
    "        \n",
    "        train_loss = 0.0\n",
    "        #MODEL_WEIGHTS = 'resnet18_baseline_att_224x224_A_epoch_249.pth'\n",
    "        #model.load_state_dict(torch.load(MODEL_WEIGHTS))\n",
    "\n",
    "        model = model.train()\n",
    "        num=0\n",
    "        for image, cmap, paf, mask in tqdm.tqdm(iter(train_loader)):\n",
    "            ''' i in range(0,len(image)):\n",
    "                test_data=image[i].numpy()\n",
    "                test_data=np.transpose(test_data,axes=(1,2,0))*255\n",
    "                test_data1=cmap[i].numpy()\n",
    "                test_data2=paf[i].numpy()\n",
    "                im=np.zeros((56,56))\n",
    "                im1=np.zeros((56,56))\n",
    "\n",
    "                for j in range(0,len(test_data1)):\n",
    "                  im=np.maximum(im,test_data1[j])\n",
    "\n",
    "                for j in test_data2:\n",
    "                  im1=np.maximum(im1,j)\n",
    "\n",
    "                im=cv2.merge([im,im,im])\n",
    "                im1=cv2.merge([im1,im1,im1])\n",
    "                im=cv2.resize(im,(224,224))*255\n",
    "                im1=cv2.resize(im1,(224,224))*255\n",
    "                new_im=np.hstack((test_data,im))\n",
    "                new_im=np.hstack((new_im,im1))\n",
    "                cv2.imwrite('Training_Progress/'+str(epoch)+'_'+str(num)+'_'+str(i)+'.jpg',new_im)'''\n",
    "                \n",
    "            image = image.to(device)\n",
    "            cmap = cmap.to(device)\n",
    "            paf = paf.to(device)\n",
    "            \n",
    "            if mask_unlabeled:\n",
    "                mask = mask.to(device).float()\n",
    "            else:\n",
    "                mask = torch.ones_like(mask).to(device).float()\n",
    "            \n",
    "            optimizer.zero_grad()\n",
    "            cmap_out, paf_out = model(image)\n",
    "            \n",
    "            '''for i in range(0,len(image)):\n",
    "                test_data1=cmap_out[i].detach().cpu().numpy()\n",
    "                test_data2=paf_out[i].detach().cpu().numpy()\n",
    "                im=np.zeros((56,56))\n",
    "                im1=np.zeros((56,56))\n",
    "\n",
    "                for j in range(0,len(test_data1)):\n",
    "                  im=np.maximum(im,test_data1[j])\n",
    "\n",
    "                for j in test_data2:\n",
    "                  im1=np.maximum(im1,j)\n",
    "\n",
    "                im=cv2.merge([im,im,im])\n",
    "                im1=cv2.merge([im1,im1,im1])\n",
    "                im=cv2.resize(im,(224,224))*255\n",
    "                im1=cv2.resize(im1,(224,224))*255\n",
    "                new_im=np.hstack((im,im1))\n",
    "                im=cv2.imread('Training_Progress/'+str(epoch)+'_'+str(num)+'_'+str(i)+'.jpg')\n",
    "                new_im=np.hstack((im,new_im))\n",
    "                cv2.imwrite('Training_Progress/'+str(epoch)+'_'+str(num)+'_'+str(i)+'.jpg',new_im)\n",
    "                imc = Image.open('Training_Progress/'+str(epoch)+'_'+str(num)+'_'+str(i)+'.jpg') \n",
    "                display(imc)'''\n",
    "                \n",
    "            cmap_mse = torch.mean(mask * (cmap_out - cmap)**2)\n",
    "            paf_mse = torch.mean(mask * (paf_out - paf)**2)\n",
    "            \n",
    "            loss = cmap_mse + paf_mse\n",
    "            \n",
    "            with amp.scale_loss(loss, optimizer) as scaled_loss:\n",
    "                scaled_loss.backward()\n",
    "#             loss.backward()\n",
    "            optimizer.step()\n",
    "            train_loss += float(loss)\n",
    "            num=num+1\n",
    "            \n",
    "        train_loss /= len(train_loader)\n",
    "        \n",
    "        test_loss = 0.0\n",
    "        model = model.eval()\n",
    "        for image, cmap, paf, mask in tqdm.tqdm(iter(test_loader)):\n",
    "      \n",
    "            with torch.no_grad():\n",
    "                image = image.to(device)\n",
    "                cmap = cmap.to(device)\n",
    "                paf = paf.to(device)\n",
    "                mask = mask.to(device).float()\n",
    "\n",
    "                if mask_unlabeled:\n",
    "                    mask = mask.to(device).float()\n",
    "                else:\n",
    "                    mask = torch.ones_like(mask).to(device).float()\n",
    "                \n",
    "                cmap_out, paf_out = model(image)\n",
    "                \n",
    "                cmap_mse = torch.mean(mask * (cmap_out - cmap)**2)\n",
    "                paf_mse = torch.mean(mask * (paf_out - paf)**2)\n",
    "\n",
    "                loss = cmap_mse + paf_mse\n",
    "\n",
    "                test_loss += float(loss)\n",
    "        test_loss /= len(test_loader)\n",
    "        caploss.append([epoch, train_loss, test_loss])\n",
    "        #input(\"Press Enter to continue...\")\n",
    "\n",
    "        write_log_entry(logfile_path, epoch, train_loss, test_loss)\n",
    "        \n",
    "        \n",
    "        if 'evaluation' in config:\n",
    "            evaluator.evaluate(model, train_dataset.topology)"
   ]
  },
  {
   "cell_type": "code",
   "execution_count": 4,
   "metadata": {},
   "outputs": [
    {
     "data": {
      "image/png": "[encoded data removed]",
      "text/plain": [
       "<Figure size 432x288 with 1 Axes>"
      ]
     },
     "metadata": {
      "needs_background": "light"
     },
     "output_type": "display_data"
    }
   ],
   "source": [
    "import matplotlib.pyplot as plt\n",
    "caploss=np.array(caploss)\n",
    "#plt.figsize((10,5))\n",
    "plt.plot(caploss[:,0],caploss[:,1],label='train')\n",
    "plt.plot(caploss[:,0],caploss[:,2],label='val')\n",
    "plt.legend(('train','val'))\n",
    "plt.savefig('loss.png')"
   ]
  },
  {
   "cell_type": "code",
   "execution_count": 4,
   "metadata": {
    "id": "qcVcCbFnsUOK",
    "tags": []
   },
   "outputs": [],
   "source": [
    "import json\n",
    "import trt_pose.coco\n",
    "import numpy as np\n",
    "import trt_pose.models\n",
    "import torch\n",
    "from torch2trt import torch2trt\n",
    "from torch2trt import TRTModule\n",
    "import cv2\n",
    "import torchvision.transforms as transforms\n",
    "from PIL import Image\n",
    "from trt_pose.draw_objects import DrawObjects\n",
    "from trt_pose.parse_objects import ParseObjects\n",
    "\n",
    "pose =  {        'supercategory': 'forklift-person',\n",
    "                 'id': 4,\n",
    "                 'keypoints': ['top_front_left',\n",
    "                               'top_front_right',\n",
    "                               'top_back_left',\n",
    "                               'top_back_right',\n",
    "                               'bot_front_left',\n",
    "                               'bot_front_right',\n",
    "                               'bot_back_left',\n",
    "                               'bot_back_right',\n",
    "                               'nose',\n",
    "                               'left_eye',\n",
    "                               'right_eye',\n",
    "                               'left_ear',\n",
    "                               'right_ear',\n",
    "                               'left_shoulder',\n",
    "                               'right_shoulder',\n",
    "                               'left_elbow',\n",
    "                               'right_elbow',\n",
    "                               'left_wrist',\n",
    "                               'right_wrist',\n",
    "                               'left_hip',\n",
    "                               'right_hip',\n",
    "                               'left_knee',\n",
    "                               'right_knee',\n",
    "                               'left_ankle',\n",
    "                               'right_ankle'],\n",
    "                 'name': 'forklift-person',\n",
    "                 'skeleton': [[1, 2],\n",
    "                              [1, 3],\n",
    "                              [1, 5],\n",
    "                              [2, 4],\n",
    "                              [2, 6],\n",
    "                              [3, 7],\n",
    "                              [3, 4],\n",
    "                              [4, 8],\n",
    "                              [5, 6],\n",
    "                              [5, 7],\n",
    "                              [6, 8],\n",
    "                              [7, 8],\n",
    "                              [ 9, 10],\n",
    "                              [ 9, 11],\n",
    "                              [10, 11],\n",
    "                              [10, 12],\n",
    "                              [11, 13],\n",
    "                              [12, 14],\n",
    "                              [13, 15],\n",
    "                              [14, 20],\n",
    "                              [14, 15],\n",
    "                              [14, 16],\n",
    "                              [15, 21],\n",
    "                              [15, 17],\n",
    "                              [16, 18],\n",
    "                              [17, 19],\n",
    "                              [20, 22],\n",
    "                              [20, 21],\n",
    "                              [21, 23],\n",
    "                              [22, 24],\n",
    "                              [23, 25]]\n",
    "                 }\n",
    "\n",
    "topology = trt_pose.coco.coco_category_to_topology(pose)"
   ]
  },
  {
   "cell_type": "code",
   "execution_count": 2,
   "metadata": {
    "id": "_vRwMRfQIWQ8"
   },
   "outputs": [],
   "source": [
    "class DrawObjects(object):\n",
    "    \n",
    "    def __init__(self, topology):\n",
    "        self.topology = topology\n",
    "        \n",
    "    def __call__(self, image, object_counts, objects, normalized_peaks):\n",
    "        topology = self.topology\n",
    "        height = image.shape[0]\n",
    "        width = image.shape[1]\n",
    "        K = topology.shape[0]\n",
    "        count = int(object_counts[0])\n",
    "        print(\"count :\", count)\n",
    "        K = topology.shape[0]\n",
    "        for i in range(count):\n",
    "            color = (0, 255, 0)\n",
    "            obj = objects[0][i]\n",
    "            C = obj.shape[0]\n",
    "            for j in range(C):\n",
    "                k = int(obj[j])\n",
    "                if k >= 0:\n",
    "                    peak = normalized_peaks[0][j][k]\n",
    "                    x = round(float(peak[1]) * width)\n",
    "                    y = round(float(peak[0]) * height)\n",
    "                    image=cv2.circle(image, (x, y), 3, color, 2)\n",
    "\n",
    "            for k in range(K):\n",
    "                c_a = topology[k][2]\n",
    "                c_b = topology[k][3]\n",
    "                if obj[c_a] >= 0 and obj[c_b] >= 0:\n",
    "                    peak0 = normalized_peaks[0][c_a][obj[c_a]]\n",
    "                    peak1 = normalized_peaks[0][c_b][obj[c_b]]\n",
    "                    x0 = round(float(peak0[1]) * width)\n",
    "                    y0 = round(float(peak0[0]) * height)\n",
    "                    x1 = round(float(peak1[1]) * width)\n",
    "                    y1 = round(float(peak1[0]) * height)\n",
    "                    image=cv2.line(image, (x0, y0), (x1, y1), color, 2)\n",
    "        return image\n"
   ]
  },
  {
   "cell_type": "code",
   "execution_count": 5,
   "metadata": {
    "colab": {
     "base_uri": "https://localhost:8080/"
    },
    "id": "KcAtdYYKubk8",
    "outputId": "280222c0-ff5b-4f86-bc19-11897f283a07"
   },
   "outputs": [],
   "source": [
    "num_parts = len(pose['keypoints'])\n",
    "num_links = len(pose['skeleton'])\n",
    "\n",
    "model = trt_pose.models.resnet18_baseline_att(num_parts, 2 * num_links).cuda().eval()\n",
    "MODEL_WEIGHTS = '../tasks/human_pose/experiments/resnet18_baseline_att_224x224_A.json.checkpoints/epoch_249.pth'\n",
    "WIDTH = 224\n",
    "HEIGHT = 224\n",
    "data = torch.zeros((1, 3, HEIGHT, WIDTH)).cuda()\n",
    "\n",
    "\n",
    "model.load_state_dict(torch.load(MODEL_WEIGHTS))\n",
    "model_trt = torch2trt(model, [data], fp16_mode=True, max_workspace_size=1<<25)\n",
    "OPTIMIZED_MODEL = '../tasks/human_pose/experiments/resnet18_baseline_att_224x224_A.json.checkpoints/epoch_249_trt.pth'\n",
    "\n",
    "torch.save(model_trt.state_dict(), OPTIMIZED_MODEL)\n",
    "model_trt = TRTModule()\n",
    "model_trt.load_state_dict(torch.load(OPTIMIZED_MODEL))\n",
    "\n",
    "mean = torch.Tensor([0.485, 0.456, 0.406]).cuda()\n",
    "std = torch.Tensor([0.229, 0.224, 0.225]).cuda()\n",
    "device = torch.device('cuda')\n",
    "\n",
    "\n"
   ]
  },
  {
   "cell_type": "code",
   "execution_count": 6,
   "metadata": {
    "id": "MeGaBAtlxoHm"
   },
   "outputs": [],
   "source": [
    "parse_objects = ParseObjects(topology)\n",
    "draw_objects = DrawObjects(topology)\n",
    "\n",
    "def preprocess(image):\n",
    "    global device\n",
    "    device = torch.device('cuda')\n",
    "    image = cv2.cvtColor(image, cv2.COLOR_BGR2RGB)\n",
    "    image = Image.fromarray(image)\n",
    "    image = transforms.functional.to_tensor(image).to(device)\n",
    "    image.sub_(mean[:, None, None]).div_(std[:, None, None])\n",
    "    return image[None, ...]\n",
    "\n",
    "def execute(image):\n",
    "    data = preprocess(image)\n",
    "    cmap, paf = model_trt(data)\n",
    "    cmap, paf = cmap.detach().cpu(), paf.detach().cpu()\n",
    "    test_data1=cmap.numpy()[0]\n",
    "    test_data2=paf.numpy()[0]\n",
    "    im=np.zeros((224,224))\n",
    "    im1=np.zeros((224,224))\n",
    "\n",
    "    for j in test_data1:\n",
    "        j=cv2.resize(j,(224,224))*255\n",
    "        im=np.maximum(im,j)\n",
    "\n",
    "    for j in test_data2:\n",
    "        j=cv2.resize(j,(224,224))*255\n",
    "        im1=np.maximum(im1,j)\n",
    "    im=cv2.merge([im,im,im])\n",
    "    im1=cv2.merge([im1,im1,im1])\n",
    "    counts, objects, peaks = parse_objects(cmap, paf)#, cmap_threshold=0.15, link_threshold=0.15)\n",
    "    draw_objects(image, counts, objects, peaks)\n",
    "    #image=cv2.UMat.get(image)\n",
    "    #image=cv2.resize(image,(512,512))\n",
    "    return image,im,im1"
   ]
  },
  {
   "cell_type": "code",
   "execution_count": 11,
   "metadata": {
    "colab": {
     "base_uri": "https://localhost:8080/",
     "height": 588
    },
    "id": "j1TfXfAVxq47",
    "outputId": "88310a14-e9b9-412e-a212-7e780b44f0d1"
   },
   "outputs": [
    {
     "data": {
      "text/plain": [
       "True"
      ]
     },
     "execution_count": 11,
     "metadata": {},
     "output_type": "execute_result"
    }
   ],
   "source": [
    "import matplotlib.pyplot as plt\n",
    "\n",
    "image=cv2.imread('Img_120422_OHLF_1363.jpg')\n",
    "image=cv2.resize(image, (224,224))\n",
    "image,im,im1=execute(image)\n",
    "im=cv2.resize(im,(512,512))\n",
    "im1=cv2.resize(im1,(512,512))\n",
    "cv2.imwrite('img3.jpg',im)\n",
    "cv2.imwrite('img5.jpg',im1)"
   ]
  },
  {
   "cell_type": "code",
   "execution_count": 12,
   "metadata": {},
   "outputs": [
    {
     "data": {
      "text/plain": [
       "<matplotlib.image.AxesImage at 0x7f986c97aa90>"
      ]
     },
     "execution_count": 12,
     "metadata": {},
     "output_type": "execute_result"
    },
    {
     "data": {
      "image/png": "[encoded data removed]",
      "text/plain": [
       "<Figure size 432x288 with 1 Axes>"
      ]
     },
     "metadata": {
      "needs_background": "light"
     },
     "output_type": "display_data"
    }
   ],
   "source": [
    "plt.imshow(image)"
   ]
  },
  {
   "cell_type": "code",
   "execution_count": 50,
   "metadata": {},
   "outputs": [
    {
     "data": {
      "image/png": "[encoded data removed]",
      "text/plain": [
       "<PIL.Image.Image image mode=RGB size=224x224 at 0x7F32203E3210>"
      ]
     },
     "metadata": {},
     "output_type": "display_data"
    },
    {
     "ename": "AttributeError",
     "evalue": "shape",
     "output_type": "error",
     "traceback": [
      "\u001b[0;31m---------------------------------------------------------------------------\u001b[0m",
      "\u001b[0;31mAttributeError\u001b[0m                            Traceback (most recent call last)",
      "\u001b[0;32m/tmp/ipykernel_70428/4236695605.py\u001b[0m in \u001b[0;36m<module>\u001b[0;34m\u001b[0m\n\u001b[1;32m     11\u001b[0m \u001b[0mcounts\u001b[0m\u001b[0;34m,\u001b[0m \u001b[0mobjects\u001b[0m\u001b[0;34m,\u001b[0m \u001b[0mpeaks\u001b[0m \u001b[0;34m=\u001b[0m \u001b[0mparse_objects\u001b[0m\u001b[0;34m(\u001b[0m\u001b[0mcmap\u001b[0m\u001b[0;34m,\u001b[0m \u001b[0mpaf\u001b[0m\u001b[0;34m)\u001b[0m\u001b[0;31m#, cmap_threshold=0.15, link_threshold=0.15)\u001b[0m\u001b[0;34m\u001b[0m\u001b[0;34m\u001b[0m\u001b[0m\n\u001b[1;32m     12\u001b[0m \u001b[0;34m\u001b[0m\u001b[0m\n\u001b[0;32m---> 13\u001b[0;31m \u001b[0mheight\u001b[0m \u001b[0;34m=\u001b[0m \u001b[0mimage\u001b[0m\u001b[0;34m.\u001b[0m\u001b[0mshape\u001b[0m\u001b[0;34m[\u001b[0m\u001b[0;36m0\u001b[0m\u001b[0;34m]\u001b[0m\u001b[0;34m\u001b[0m\u001b[0;34m\u001b[0m\u001b[0m\n\u001b[0m\u001b[1;32m     14\u001b[0m \u001b[0mwidth\u001b[0m \u001b[0;34m=\u001b[0m \u001b[0mimage\u001b[0m\u001b[0;34m.\u001b[0m\u001b[0mshape\u001b[0m\u001b[0;34m[\u001b[0m\u001b[0;36m1\u001b[0m\u001b[0;34m]\u001b[0m\u001b[0;34m\u001b[0m\u001b[0;34m\u001b[0m\u001b[0m\n\u001b[1;32m     15\u001b[0m \u001b[0mK\u001b[0m \u001b[0;34m=\u001b[0m \u001b[0mtopology\u001b[0m\u001b[0;34m.\u001b[0m\u001b[0mshape\u001b[0m\u001b[0;34m[\u001b[0m\u001b[0;36m0\u001b[0m\u001b[0;34m]\u001b[0m\u001b[0;34m\u001b[0m\u001b[0;34m\u001b[0m\u001b[0m\n",
      "\u001b[0;32m~/miniconda3/envs/TRTPose/lib/python3.7/site-packages/PIL/Image.py\u001b[0m in \u001b[0;36m__getattr__\u001b[0;34m(self, name)\u001b[0m\n\u001b[1;32m    517\u001b[0m             )\n\u001b[1;32m    518\u001b[0m             \u001b[0;32mreturn\u001b[0m \u001b[0mself\u001b[0m\u001b[0;34m.\u001b[0m\u001b[0m_category\u001b[0m\u001b[0;34m\u001b[0m\u001b[0;34m\u001b[0m\u001b[0m\n\u001b[0;32m--> 519\u001b[0;31m         \u001b[0;32mraise\u001b[0m \u001b[0mAttributeError\u001b[0m\u001b[0;34m(\u001b[0m\u001b[0mname\u001b[0m\u001b[0;34m)\u001b[0m\u001b[0;34m\u001b[0m\u001b[0;34m\u001b[0m\u001b[0m\n\u001b[0m\u001b[1;32m    520\u001b[0m \u001b[0;34m\u001b[0m\u001b[0m\n\u001b[1;32m    521\u001b[0m     \u001b[0;34m@\u001b[0m\u001b[0mproperty\u001b[0m\u001b[0;34m\u001b[0m\u001b[0;34m\u001b[0m\u001b[0m\n",
      "\u001b[0;31mAttributeError\u001b[0m: shape"
     ]
    }
   ],
   "source": [
    "parse_objects = ParseObjects(topology)\n",
    "draw_objects = DrawObjects(topology)\n",
    "\n",
    "image,cmap,paf,_ = test_dataset[50]\n",
    "cmap=cmap.view((1,25,56,56))*255\n",
    "paf=paf.view((1,62,56,56))*255\n",
    "image=np.transpose(image.numpy(),(1,2,0))*255\n",
    "image=Image.fromarray(np.uint8(image))\n",
    "display(image)\n",
    "#cmap, paf = cmap.detach().cpu(), paf.detach().cpu()\n",
    "counts, objects, peaks = parse_objects(cmap, paf)#, cmap_threshold=0.15, link_threshold=0.15)\n",
    "\n",
    "height = image.shape[0]\n",
    "width = image.shape[1]\n",
    "K = topology.shape[0]\n",
    "count = int(counts[0])\n",
    "K = topology.shape[0]\n",
    "for i in range(count):\n",
    "    color = (0, 255, 0)\n",
    "    obj = objects[0][i]\n",
    "    C = obj.shape[0]\n",
    "    for j in range(C):\n",
    "        k = int(obj[j])\n",
    "        if k >= 0:\n",
    "            peak = peaks[0][j][k]\n",
    "            x = round(float(peak[1]) * width)\n",
    "            y = round(float(peak[0]) * height)\n",
    "            image=cv2.circle(image, (x, y), 1, color, 2)\n",
    "    for k in range(K):\n",
    "        c_a = topology[k][2]\n",
    "        c_b = topology[k][3]\n",
    "        if obj[c_a] >= 0 and obj[c_b] >= 0:\n",
    "            peak0 = peaks[0][c_a][obj[c_a]]\n",
    "            peak1 = peaks[0][c_b][obj[c_b]]\n",
    "            x0 = round(float(peak0[1]) * width)\n",
    "            y0 = round(float(peak0[0]) * height)\n",
    "            x1 = round(float(peak1[1]) * width)\n",
    "            y1 = round(float(peak1[0]) * height)\n",
    "            image=cv2.line(image, (x0, y0), (x1, y1), color, 2)\n",
    "\n",
    "image=cv2.UMat.get(image)\n",
    "\n",
    "image=cv2.resize(image,(512,512))\n",
    "image=Image.fromarray(np.uint8(image))\n",
    "display(image)"
   ]
  },
  {
   "cell_type": "code",
   "execution_count": null,
   "metadata": {
    "id": "hI5GuR6-_cIr"
   },
   "outputs": [],
   "source": [
    "for i in range(0,10):\n",
    "  im,cmap,paf,_ = train_dataset[i]\n",
    "  test_data=im.numpy()\n",
    "  test_data=np.transpose(test_data,axes=(1,2,0))*255\n",
    "  test_data1=cmap.numpy()\n",
    "  test_data2=paf.numpy()\n",
    "  im=np.zeros((224,224))\n",
    "  im1=np.zeros((224,224))\n",
    "\n",
    "  for j in test_data1:\n",
    "    j=cv2.resize(j,(224,224))*255\n",
    "    im=np.maximum(im,j)\n",
    "\n",
    "  for j in test_data2:\n",
    "    j=cv2.resize(j,(224,224))*255\n",
    "    im1=np.maximum(im1,j)\n",
    "\n",
    "  im=cv2.merge([im,im,im])\n",
    "  im1=cv2.merge([im1,im1,im1])\n",
    "  im=0.9*im+0.1*(test_data)\n",
    "  im=cv2.resize(im,(512,512))\n",
    "  cv2_imshow(im)\n",
    "  im1=0.5*im1+0.5*(test_data)\n",
    "  im1=cv2.resize(im1,(512,512))\n",
    "  cv2_imshow(im1)"
   ]
  }
 ],
 "metadata": {
  "accelerator": "GPU",
  "colab": {
   "collapsed_sections": [],
   "name": "TRTPose_Forklift Training.ipynb",
   "provenance": []
  },
  "gpuClass": "standard",
  "kernelspec": {
   "display_name": "Python 3 (ipykernel)",
   "language": "python",
   "name": "python3"
  },
  "language_info": {
   "codemirror_mode": {
    "name": "ipython",
    "version": 3
   },
   "file_extension": ".py",
   "mimetype": "text/x-python",
   "name": "python",
   "nbconvert_exporter": "python",
   "pygments_lexer": "ipython3",
   "version": "3.7.13"
  }
 },
 "nbformat": 4,
 "nbformat_minor": 4
}
